{
  "cells": [
    {
      "cell_type": "markdown",
      "metadata": {
        "id": "hCedazVxogHf"
      },
      "source": [
        "# Getting Started\n",
        "\n",
        "In this assignment you will be implementing at least 2 unique models and working with both the CIFAR10 and Imagenette datasets. The cell below defines a basic model based on the examples we reviewed in class. You should use this as a starting point to implement your own models.\n",
        "\n",
        "You should have no problems running this notebook in Google Colab. If you choose to run it on your own machine, a yaml file is provided with the necessary dependencies. If you are using anaconda, you can create a new environment with the following command:\n",
        "\n",
        "```bash\n",
        "conda env create -f env.yml\n",
        "```"
      ]
    },
    {
      "cell_type": "markdown",
      "source": [
        "#Import torch and test cuda"
      ],
      "metadata": {
        "id": "_YQsyhliuDlI"
      }
    },
    {
      "cell_type": "code",
      "source": [
        "import torch\n",
        "torch.cuda.empty_cache()\n",
        "print(\"CUDA available:\", torch.cuda.is_available())\n",
        "print(\"Device:\", torch.device(\"cuda\" if torch.cuda.is_available() else \"cpu\"))\n"
      ],
      "metadata": {
        "id": "6fsyXZ3auAb9",
        "colab": {
          "base_uri": "https://localhost:8080/"
        },
        "outputId": "5be8b33f-c2fd-4e03-c2ee-4510e1f3ce2d"
      },
      "execution_count": 1,
      "outputs": [
        {
          "output_type": "stream",
          "name": "stdout",
          "text": [
            "CUDA available: True\n",
            "Device: cuda\n"
          ]
        }
      ]
    },
    {
      "cell_type": "markdown",
      "source": [
        "#Install Lighting"
      ],
      "metadata": {
        "id": "t-Jg8KSM4S4h"
      }
    },
    {
      "cell_type": "code",
      "source": [
        "!pip install lightning"
      ],
      "metadata": {
        "id": "m8vvelE74Wwu",
        "colab": {
          "base_uri": "https://localhost:8080/"
        },
        "outputId": "6305abc3-f63b-4d52-bd26-51882d1862ef"
      },
      "execution_count": 2,
      "outputs": [
        {
          "output_type": "stream",
          "name": "stdout",
          "text": [
            "Requirement already satisfied: lightning in /usr/local/lib/python3.11/dist-packages (2.5.1)\n",
            "Requirement already satisfied: PyYAML<8.0,>=5.4 in /usr/local/lib/python3.11/dist-packages (from lightning) (6.0.2)\n",
            "Requirement already satisfied: fsspec<2026.0,>=2022.5.0 in /usr/local/lib/python3.11/dist-packages (from fsspec[http]<2026.0,>=2022.5.0->lightning) (2025.3.0)\n",
            "Requirement already satisfied: lightning-utilities<2.0,>=0.10.0 in /usr/local/lib/python3.11/dist-packages (from lightning) (0.14.2)\n",
            "Requirement already satisfied: packaging<25.0,>=20.0 in /usr/local/lib/python3.11/dist-packages (from lightning) (24.2)\n",
            "Requirement already satisfied: torch<4.0,>=2.1.0 in /usr/local/lib/python3.11/dist-packages (from lightning) (2.6.0+cu124)\n",
            "Requirement already satisfied: torchmetrics<3.0,>=0.7.0 in /usr/local/lib/python3.11/dist-packages (from lightning) (1.7.0)\n",
            "Requirement already satisfied: tqdm<6.0,>=4.57.0 in /usr/local/lib/python3.11/dist-packages (from lightning) (4.67.1)\n",
            "Requirement already satisfied: typing-extensions<6.0,>=4.4.0 in /usr/local/lib/python3.11/dist-packages (from lightning) (4.13.0)\n",
            "Requirement already satisfied: pytorch-lightning in /usr/local/lib/python3.11/dist-packages (from lightning) (2.5.1)\n",
            "Requirement already satisfied: aiohttp!=4.0.0a0,!=4.0.0a1 in /usr/local/lib/python3.11/dist-packages (from fsspec[http]<2026.0,>=2022.5.0->lightning) (3.11.14)\n",
            "Requirement already satisfied: setuptools in /usr/local/lib/python3.11/dist-packages (from lightning-utilities<2.0,>=0.10.0->lightning) (75.2.0)\n",
            "Requirement already satisfied: filelock in /usr/local/lib/python3.11/dist-packages (from torch<4.0,>=2.1.0->lightning) (3.18.0)\n",
            "Requirement already satisfied: networkx in /usr/local/lib/python3.11/dist-packages (from torch<4.0,>=2.1.0->lightning) (3.4.2)\n",
            "Requirement already satisfied: jinja2 in /usr/local/lib/python3.11/dist-packages (from torch<4.0,>=2.1.0->lightning) (3.1.6)\n",
            "Requirement already satisfied: nvidia-cuda-nvrtc-cu12==12.4.127 in /usr/local/lib/python3.11/dist-packages (from torch<4.0,>=2.1.0->lightning) (12.4.127)\n",
            "Requirement already satisfied: nvidia-cuda-runtime-cu12==12.4.127 in /usr/local/lib/python3.11/dist-packages (from torch<4.0,>=2.1.0->lightning) (12.4.127)\n",
            "Requirement already satisfied: nvidia-cuda-cupti-cu12==12.4.127 in /usr/local/lib/python3.11/dist-packages (from torch<4.0,>=2.1.0->lightning) (12.4.127)\n",
            "Requirement already satisfied: nvidia-cudnn-cu12==9.1.0.70 in /usr/local/lib/python3.11/dist-packages (from torch<4.0,>=2.1.0->lightning) (9.1.0.70)\n",
            "Requirement already satisfied: nvidia-cublas-cu12==12.4.5.8 in /usr/local/lib/python3.11/dist-packages (from torch<4.0,>=2.1.0->lightning) (12.4.5.8)\n",
            "Requirement already satisfied: nvidia-cufft-cu12==11.2.1.3 in /usr/local/lib/python3.11/dist-packages (from torch<4.0,>=2.1.0->lightning) (11.2.1.3)\n",
            "Requirement already satisfied: nvidia-curand-cu12==10.3.5.147 in /usr/local/lib/python3.11/dist-packages (from torch<4.0,>=2.1.0->lightning) (10.3.5.147)\n",
            "Requirement already satisfied: nvidia-cusolver-cu12==11.6.1.9 in /usr/local/lib/python3.11/dist-packages (from torch<4.0,>=2.1.0->lightning) (11.6.1.9)\n",
            "Requirement already satisfied: nvidia-cusparse-cu12==12.3.1.170 in /usr/local/lib/python3.11/dist-packages (from torch<4.0,>=2.1.0->lightning) (12.3.1.170)\n",
            "Requirement already satisfied: nvidia-cusparselt-cu12==0.6.2 in /usr/local/lib/python3.11/dist-packages (from torch<4.0,>=2.1.0->lightning) (0.6.2)\n",
            "Requirement already satisfied: nvidia-nccl-cu12==2.21.5 in /usr/local/lib/python3.11/dist-packages (from torch<4.0,>=2.1.0->lightning) (2.21.5)\n",
            "Requirement already satisfied: nvidia-nvtx-cu12==12.4.127 in /usr/local/lib/python3.11/dist-packages (from torch<4.0,>=2.1.0->lightning) (12.4.127)\n",
            "Requirement already satisfied: nvidia-nvjitlink-cu12==12.4.127 in /usr/local/lib/python3.11/dist-packages (from torch<4.0,>=2.1.0->lightning) (12.4.127)\n",
            "Requirement already satisfied: triton==3.2.0 in /usr/local/lib/python3.11/dist-packages (from torch<4.0,>=2.1.0->lightning) (3.2.0)\n",
            "Requirement already satisfied: sympy==1.13.1 in /usr/local/lib/python3.11/dist-packages (from torch<4.0,>=2.1.0->lightning) (1.13.1)\n",
            "Requirement already satisfied: mpmath<1.4,>=1.1.0 in /usr/local/lib/python3.11/dist-packages (from sympy==1.13.1->torch<4.0,>=2.1.0->lightning) (1.3.0)\n",
            "Requirement already satisfied: numpy>1.20.0 in /usr/local/lib/python3.11/dist-packages (from torchmetrics<3.0,>=0.7.0->lightning) (2.0.2)\n",
            "Requirement already satisfied: aiohappyeyeballs>=2.3.0 in /usr/local/lib/python3.11/dist-packages (from aiohttp!=4.0.0a0,!=4.0.0a1->fsspec[http]<2026.0,>=2022.5.0->lightning) (2.6.1)\n",
            "Requirement already satisfied: aiosignal>=1.1.2 in /usr/local/lib/python3.11/dist-packages (from aiohttp!=4.0.0a0,!=4.0.0a1->fsspec[http]<2026.0,>=2022.5.0->lightning) (1.3.2)\n",
            "Requirement already satisfied: attrs>=17.3.0 in /usr/local/lib/python3.11/dist-packages (from aiohttp!=4.0.0a0,!=4.0.0a1->fsspec[http]<2026.0,>=2022.5.0->lightning) (25.3.0)\n",
            "Requirement already satisfied: frozenlist>=1.1.1 in /usr/local/lib/python3.11/dist-packages (from aiohttp!=4.0.0a0,!=4.0.0a1->fsspec[http]<2026.0,>=2022.5.0->lightning) (1.5.0)\n",
            "Requirement already satisfied: multidict<7.0,>=4.5 in /usr/local/lib/python3.11/dist-packages (from aiohttp!=4.0.0a0,!=4.0.0a1->fsspec[http]<2026.0,>=2022.5.0->lightning) (6.2.0)\n",
            "Requirement already satisfied: propcache>=0.2.0 in /usr/local/lib/python3.11/dist-packages (from aiohttp!=4.0.0a0,!=4.0.0a1->fsspec[http]<2026.0,>=2022.5.0->lightning) (0.3.1)\n",
            "Requirement already satisfied: yarl<2.0,>=1.17.0 in /usr/local/lib/python3.11/dist-packages (from aiohttp!=4.0.0a0,!=4.0.0a1->fsspec[http]<2026.0,>=2022.5.0->lightning) (1.18.3)\n",
            "Requirement already satisfied: MarkupSafe>=2.0 in /usr/local/lib/python3.11/dist-packages (from jinja2->torch<4.0,>=2.1.0->lightning) (3.0.2)\n",
            "Requirement already satisfied: idna>=2.0 in /usr/local/lib/python3.11/dist-packages (from yarl<2.0,>=1.17.0->aiohttp!=4.0.0a0,!=4.0.0a1->fsspec[http]<2026.0,>=2022.5.0->lightning) (3.10)\n"
          ]
        }
      ]
    },
    {
      "cell_type": "markdown",
      "source": [
        "#BaselineModel (MLP) provided"
      ],
      "metadata": {
        "id": "Q3kwtaNrvsaP"
      }
    },
    {
      "cell_type": "code",
      "execution_count": 3,
      "metadata": {
        "id": "rQRNVH4UogHg"
      },
      "outputs": [],
      "source": [
        "import torch\n",
        "from torch import nn\n",
        "import torch.nn.functional as F\n",
        "import lightning as L\n",
        "import torchmetrics\n",
        "\n",
        "\n",
        "class BaselineModel(L.LightningModule):\n",
        "    def __init__(self, num_classes=10):\n",
        "        super().__init__()\n",
        "\n",
        "        self.estimator = nn.Sequential(\n",
        "            nn.Linear(64 * 64, 1024),\n",
        "            nn.ReLU(),\n",
        "            nn.Linear(1024, 512),\n",
        "            nn.ReLU(),\n",
        "            nn.Linear(512, 128),\n",
        "            nn.ReLU(),\n",
        "            nn.Linear(128, num_classes)\n",
        "        )\n",
        "\n",
        "        self.accuracy = torchmetrics.Accuracy(task=\"multiclass\", num_classes=num_classes)\n",
        "\n",
        "    def forward(self, x):\n",
        "        x = x.view(x.shape[0], -1)\n",
        "\n",
        "        return self.estimator(x)\n",
        "\n",
        "    def training_step(self, batch, batch_idx):\n",
        "        x, y = batch\n",
        "        y_hat = self(x)\n",
        "        loss = F.cross_entropy(y_hat, y)\n",
        "\n",
        "        self.log(\"train_loss\", loss)\n",
        "        return loss\n",
        "\n",
        "    def validation_step(self, batch, batch_idx):\n",
        "        x, y = batch\n",
        "        y_hat = self(x)\n",
        "        loss = F.cross_entropy(y_hat, y)\n",
        "\n",
        "        self.accuracy(y_hat, y)\n",
        "\n",
        "        self.log(\"val_accuracy\", self.accuracy)\n",
        "        self.log(\"val_loss\", loss)\n",
        "\n",
        "    def test_step(self, batch, batch_idx):\n",
        "        x, y = batch\n",
        "        y_hat = self(x)\n",
        "        loss = F.cross_entropy(y_hat, y)\n",
        "\n",
        "        self.accuracy(y_hat, y)\n",
        "\n",
        "        self.log(\"test_accuracy\", self.accuracy)\n",
        "        self.log(\"test_loss\", loss)\n",
        "\n",
        "    def configure_optimizers(self):\n",
        "        optimizer = torch.optim.Adam(self.parameters(), lr=1e-3)\n",
        "        return optimizer\n"
      ]
    },
    {
      "cell_type": "markdown",
      "source": [
        "#Imagenette dataset preparation"
      ],
      "metadata": {
        "id": "nLcgw-lZxgEM"
      }
    },
    {
      "cell_type": "markdown",
      "metadata": {
        "id": "YUIrOkWCogHh"
      },
      "source": [
        "The Imagenette dataset is a smaller subset of 10 easily classified classes from Imagenet. It is available to download from `torchvision`, as shown in the cell below. There are 3 different sizes of the images available. Feel free to use whichever version you prefer. It might make a difference in the performance of your model.\n",
        "\n",
        "**Note: After downloading the Imagenette dataset, you will need to set `download=False` in the cell below to avoid errors.(Note: I had no issue without changing to the false.)**"
      ]
    },
    {
      "cell_type": "code",
      "execution_count": 9,
      "metadata": {
        "id": "XysbFYuAogHh"
      },
      "outputs": [],
      "source": [
        "from torchvision import transforms\n",
        "from torchvision.datasets import Imagenette\n",
        "from lightning.pytorch.callbacks.early_stopping import EarlyStopping\n",
        "from lightning.pytorch.callbacks import ModelCheckpoint\n",
        "\n",
        "\n",
        "# Prepare the dataset. Without Data augementation.\n",
        "# train_transforms = transforms.Compose([\n",
        "#     transforms.CenterCrop(160),\n",
        "#     transforms.Resize(64),\n",
        "#     transforms.ToTensor(),\n",
        "#     transforms.Normalize((0.4914, 0.4822, 0.4465), (0.2470, 0.2435, 0.2616)),\n",
        "#     transforms.Grayscale()\n",
        "# ])\n",
        "\n",
        "# Prepare the dataset for the Regularization. Use this for regularization.\n",
        "train_transforms = transforms.Compose([\n",
        "    transforms.Grayscale(),  # Convert to 1-channel before anything else\n",
        "    transforms.RandomResizedCrop(64),\n",
        "    transforms.RandomHorizontalFlip(),\n",
        "    transforms.RandomRotation(10),\n",
        "    transforms.ToTensor(),\n",
        "    transforms.Normalize((0.5,), (0.5,))  # Normalize for 1-channel image\n",
        "])\n",
        "\n",
        "test_transforms = transforms.Compose([\n",
        "    transforms.CenterCrop(160),\n",
        "    transforms.Resize(64),\n",
        "    transforms.ToTensor(),\n",
        "    transforms.Normalize((0.4914, 0.4822, 0.4465), (0.2470, 0.2435, 0.2616)),\n",
        "    transforms.Grayscale()\n",
        "])\n",
        "\n",
        "train_dataset = Imagenette(\"data/imagenette/train/\", split=\"train\", size=\"160px\", download=True, transform=train_transforms)\n",
        "\n",
        "# Use 10% of the training set for validation\n",
        "train_set_size = int(len(train_dataset) * 0.9)\n",
        "val_set_size = len(train_dataset) - train_set_size\n",
        "\n",
        "seed = torch.Generator().manual_seed(42)\n",
        "train_dataset, val_dataset = torch.utils.data.random_split(train_dataset, [train_set_size, val_set_size], generator=seed)\n",
        "val_dataset.dataset.transform = test_transforms\n",
        "\n",
        "# Use DataLoader to load the dataset\n",
        "train_loader = torch.utils.data.DataLoader(train_dataset, batch_size=128, num_workers=8, shuffle=True)\n",
        "val_loader = torch.utils.data.DataLoader(val_dataset, batch_size=128, num_workers=8, shuffle=False)\n",
        "\n",
        "# Configure the test dataset\n",
        "test_dataset = Imagenette(\"data/imagenette/test/\", split=\"val\", size=\"160px\", download=True, transform=test_transforms)\n",
        "\n",
        "model = BaselineModel()\n",
        "\n",
        "# Add EarlyStopping\n",
        "early_stop_callback = EarlyStopping(monitor=\"val_loss\",\n",
        "                                    mode=\"min\",\n",
        "                                    patience=5)\n",
        "\n",
        "# Configure Checkpoints\n",
        "checkpoint_callback = ModelCheckpoint(\n",
        "    monitor=\"val_loss\",\n",
        "    mode=\"min\"\n",
        ")"
      ]
    },
    {
      "cell_type": "code",
      "execution_count": null,
      "metadata": {
        "id": "vfwE_KmeogHh"
      },
      "outputs": [],
      "source": [
        "# Fit the model\n",
        "# trainer = L.Trainer(callbacks=[early_stop_callback, checkpoint_callback])\n",
        "# trainer.fit(model=model, train_dataloaders=train_loader, val_dataloaders=val_loader)"
      ]
    },
    {
      "cell_type": "code",
      "execution_count": null,
      "metadata": {
        "id": "ex_7QEa5ogHh"
      },
      "outputs": [],
      "source": [
        "# Evaluate the model on the test set\n",
        "# test_loader = torch.utils.data.DataLoader(test_dataset, batch_size=256, num_workers=8, shuffle=False)\n",
        "# trainer.test(model=model, dataloaders=test_loader)"
      ]
    },
    {
      "cell_type": "markdown",
      "source": [
        "#Basic Convulution Neural Network (CNN)"
      ],
      "metadata": {
        "id": "eyk_Sx4d0mY3"
      }
    },
    {
      "cell_type": "code",
      "source": [
        "class BasicCNN(L.LightningModule):\n",
        "    def __init__(self, num_classes=10):\n",
        "        super().__init__()\n",
        "\n",
        "        self.conv_layers = nn.Sequential(\n",
        "            nn.Conv2d(1, 32, kernel_size=3, stride=1, padding=1),  # Input: 1x64x64 -> Output: 32x64x64\n",
        "            nn.ReLU(),\n",
        "            nn.MaxPool2d(kernel_size=2, stride=2),                 # Output: 32x32x32\n",
        "\n",
        "            nn.Conv2d(32, 64, kernel_size=3, stride=1, padding=1), # Output: 64x32x32\n",
        "            nn.ReLU(),\n",
        "            nn.MaxPool2d(kernel_size=2, stride=2),                 # Output: 64x16x16\n",
        "\n",
        "            nn.Conv2d(64, 128, kernel_size=3, stride=1, padding=1), # Output: 128x16x16\n",
        "            nn.ReLU(),\n",
        "            nn.MaxPool2d(kernel_size=2, stride=2),                  # Output: 128x8x8\n",
        "        )\n",
        "\n",
        "        self.fc_layers = nn.Sequential(\n",
        "            nn.Flatten(),\n",
        "            nn.Linear(128 * 8 * 8, 256),\n",
        "            nn.ReLU(),\n",
        "            nn.Linear(256, num_classes)\n",
        "        )\n",
        "\n",
        "        self.accuracy = torchmetrics.Accuracy(task=\"multiclass\", num_classes=num_classes)\n",
        "\n",
        "    def forward(self, x):\n",
        "        x = self.conv_layers(x)\n",
        "        return self.fc_layers(x)\n",
        "\n",
        "    def training_step(self, batch, batch_idx):\n",
        "        x, y = batch\n",
        "        y_hat = self(x)\n",
        "        loss = F.cross_entropy(y_hat, y)\n",
        "        self.log(\"train_loss\", loss)\n",
        "        return loss\n",
        "\n",
        "    def validation_step(self, batch, batch_idx):\n",
        "        x, y = batch\n",
        "        y_hat = self(x)\n",
        "        loss = F.cross_entropy(y_hat, y)\n",
        "        self.accuracy(y_hat, y)\n",
        "        self.log(\"val_accuracy\", self.accuracy, prog_bar=True)\n",
        "        self.log(\"val_loss\", loss)\n",
        "        return loss\n",
        "\n",
        "    def test_step(self, batch, batch_idx):\n",
        "        x, y = batch\n",
        "        y_hat = self(x)\n",
        "        loss = F.cross_entropy(y_hat, y)\n",
        "        self.accuracy(y_hat, y)\n",
        "        self.log(\"test_accuracy\", self.accuracy)\n",
        "        self.log(\"test_loss\", loss)\n",
        "\n",
        "    def configure_optimizers(self):\n",
        "        return torch.optim.Adam(self.parameters(), lr=1e-3)\n"
      ],
      "metadata": {
        "id": "cR5JDgaA0r1e"
      },
      "execution_count": 5,
      "outputs": []
    },
    {
      "cell_type": "markdown",
      "source": [
        "**Note: When training and evaluating model, sometimes session might crashed likely due to the hardware limitations. In such case select runtime and restart the session and start running cells from the beginning.**"
      ],
      "metadata": {
        "id": "YL9vYhzD-OuK"
      }
    },
    {
      "cell_type": "markdown",
      "source": [
        "##Train and evaluate Basic CNN model"
      ],
      "metadata": {
        "id": "1udFtYB36lJd"
      }
    },
    {
      "cell_type": "code",
      "source": [
        "# Instantiate the model\n",
        "model = BasicCNN()\n",
        "\n",
        "# Create the Trainer with GPU and callbacks\n",
        "trainer = L.Trainer(\n",
        "    accelerator=\"auto\",            # Automatically use GPU if available\n",
        "    max_epochs=50,                 # Set a reasonable upper limit\n",
        "    callbacks=[early_stop_callback, checkpoint_callback],\n",
        "    log_every_n_steps=10\n",
        ")\n",
        "\n",
        "# Train the model\n",
        "trainer.fit(model=model, train_dataloaders=train_loader, val_dataloaders=val_loader)\n",
        "\n",
        "# Evaluate on the test set\n",
        "test_loader = torch.utils.data.DataLoader(test_dataset, batch_size=64, num_workers=2, shuffle=False)\n",
        "trainer.test(model=model, dataloaders=test_loader)\n"
      ],
      "metadata": {
        "id": "01VNdNWk6p_6",
        "colab": {
          "base_uri": "https://localhost:8080/",
          "height": 819,
          "referenced_widgets": [
            "7c2474101a2f4e11bf7a0b9a8b46884c",
            "64f24ce47ef344a197072a06d82ee86c",
            "9f9aaae223834713a54482e52436365b",
            "1e811faabbd04905b279c3a6c234ce76",
            "2f470ec789c34b91923380a6d9fad0c9",
            "0e33cd37e1c741238d318d7878dc86bb",
            "e12879dcc3c64905b9d6544a440bad8c",
            "563fa480a2b7489c80254c9df7242210",
            "0d54add97b3c40cda2b57f21028fdb4a",
            "aa2f4fd1dd48480285216e1482b977fd",
            "ae242cfa2623473e97933773628fd95c",
            "f2a770579291467f9fa06c3cf6b90fea",
            "0f6d319250e1466487f2c4ff66a47efd",
            "a2a2882c39a64c04b77d5ead3da5bbe7",
            "220edc778e024593bd09069c7efce95c",
            "c5d802518dd245118de63efd7b67a6d7",
            "e4b1b0568c8c4a03a0c0d6a1a4e67605",
            "79eba021557646288d2b110ba52a7d7b",
            "13c9cf189e97448a9dabb54755725ce0",
            "e36cda3816ca419fbb412b9cb82fab09",
            "0a482d6ec6b5467c9467eeaa75e4bcc7",
            "53c0f782f51a48a498e5cf869d6ca56d",
            "1891156ccee74ea3b925fc0f3bdde8d2",
            "ad6836dfc8094bf4916474f54c92a71e",
            "b3a649bdc0854a3f9cb61c0776c53016",
            "c577f586862d4e5f9ca59b21f8cf83b2",
            "6ea8b755a2f549408b317b2744bc661c",
            "060c738018124c789f3074783976fb18",
            "1cc1e9e7fac24edd8fe8a1ec06924e45",
            "ba73ee1955724cddac69a369b9d5374c",
            "7fa6da2dd42c477dab7ed105606ad748",
            "fdea2dcb07344b5b8e5a86021efc6672",
            "44c8510079ed4a6dbd3bf1f55081cef9",
            "4be8545be59145a3b9d80dad0b11b51c",
            "adf7e9ef2fdd42cdac8a0a410eca0cb0",
            "995f4028e6344f98904be38f32bc0127",
            "445c63a1d7f74a98adebfacc469cdd2d",
            "aa884a388db04bd7a4d770a695162461",
            "d793d90e656b4a89a64802d655ea625e",
            "0af281f91d0548d0977587fd00ce8d59",
            "227903b391134bdcb410d81ae72fb0cd",
            "28fde8728a59422e803eb998991741bd",
            "6ed9797877a241cea8846b60f1d8fc6b",
            "f660e7156da04d938cf963711f614685",
            "8903c858c9c041e7ac052e4b14e5b9f7",
            "6d5b23011c134a7d8c041c9590cf68af",
            "c34627b71fbe453b816b66798f9a6eea",
            "1149905fb1eb41dfbbb5c038a2524952",
            "2233addec3384f82903e4f89faed36fc",
            "f46e8c122c9347dab3359f54200f3708",
            "d2bbebdb2cd2489ba259db4898606a8e",
            "7eca8875acd142c2b653a4cabe5828df",
            "137c60b8330945f989326d7075f2b00a",
            "2334b23ecbfb45a888e970f2485f27e0",
            "e10551dd44054415a31618688adbdf02",
            "537d25aafb6a434d9ebf5bca15ff04fe",
            "03c6b06eee954b7d957ee8704a6f54fb",
            "0b8134ab466041978661c937e01f252b",
            "5e3e741c361942b2935dca3fa960ecc0",
            "3af8dc21056144f5bbe807123f06e705",
            "8a7d3841c4384c7f9781fdfc96a810fb",
            "206eac0daa1a49d5aa975e216a683cde",
            "e2bae9627aaf4d59bc5082c44e480e80",
            "d0ed459cb1844fa09d59632f4c4749b7",
            "ce6d4758da52424d9d96f708f0828a93",
            "739fe1f9d07f419586d8c02d5e77cf9e",
            "8b4eee90211046f0911e22b9cfbbba7b",
            "7346b58cbbc545c4aaac281e9c2df271",
            "808f2a033a97446d89e086f7104e2c64",
            "598e000f4b494b76b8c899ebdc43a186",
            "1e3c2d586cb24c288fd1e12d3173eb79",
            "9c37946ebb8c4b73b1b7f225e5c48c10",
            "9b45b7f2e3e448799afdf42915b22474",
            "12dded4d123d439789e0017d6144f50e",
            "8f1dc3f1af9748f5a8baed9ee0aee5bc",
            "774533eefca64b888d2a77263e85a945",
            "b58f5228c7b74ab68997ce3837505ac3",
            "1e7c37c700ae4860b5a97e2c0e534a6e",
            "adb0333c34f24349a8af21edbc811a0c",
            "769009abfb1244c88bc1c3f024d738da",
            "e127cefd3ce44fe89789c5aea995c01d",
            "88334607ad404361889a9fa4c6da8b9f",
            "1e5db93ad7044fc88990dc96264fdb89",
            "1fe5f88a92bc41a3840557eb3df08f27",
            "ee93096a61254082a5d0d61fad359d08",
            "bd7ca9352369478687efd045efb52a98",
            "827a36bb159d49398addf75a176db971",
            "726c588d1aae4ac39c3624a43fcae63e",
            "1020f17d9f0344bbb182a28ef25df51d",
            "287ad87776d348bb98b9aad49904d6e8",
            "8100f6673a484cbe850f5d26d5692b24",
            "f00a8098aa934d09beaee6cdf69e6907",
            "80896907d2c7497981c9c674303f0cec",
            "d9059bc61fb74eb1bd106a65d2d57205",
            "f2dec0aa10a4491aa84dc1d9c7d8279f",
            "23b0c1c1818341e68175c60efb8c40ff",
            "215acdc3e0ff46f7abb997f1f037ae4a",
            "65f02d3538bb40c79a8e0a11925ae573",
            "962da80d8ec5420cbceb0f10e9fe8a77",
            "b0fb00a334b2403693d7fbcafde881c3",
            "d80647e7312b4bcebc61b3210093623e",
            "7242f6494b2d426fb2395cf781587e0a",
            "5aa94abf9775419abd5cb708e5cda811",
            "83bde3aeb3f745429448df060d37095c",
            "16bd33e3890d4ca5b8b8a545e7bcca16",
            "22a44a7f3c8a4012b6ded510ed652aa2",
            "a9d1ba5cff0042d784d0bbee87083e6c",
            "195f2c659f5e479b915e1ca77449cf82",
            "ed490e380ce94420adfac719e4342b28",
            "bd55d1600f9b43d786d1ed1748b32df5",
            "18a8d85a07534b99bc7ff5fc8bc8278b",
            "9a9931ecddea4085bf359b8ed3c4cc83",
            "860bbdf5b10a4eaab79e4aa01e26c1f1",
            "7f52f33152c14ad3b4111af7e902faa4",
            "13cdf533a4ba430ba22459a46063d166",
            "11e8db3ee3644ef0b066c4ef0ab804c4",
            "13f4b1ed06674970b31eb1ca12a577cb",
            "b9a1ef687e794b95a7fb876e16926fd7",
            "e891fca29afe49789f49c30dcbc28853",
            "ff9b028814b74092b84e9adb4fdd26bc",
            "ccda3764120e4e02a767bdcf62d1f125",
            "c887ea20387a40599ebae0f3f12bde02",
            "488689934a1e416d9f0c8c89846db194",
            "56d0b52ba850416289fdbe7ba5d8884f",
            "fa5ce77ef8d54cff94024232712babbf",
            "348932a1eac14ff69561af536dead2ac",
            "7e8d1733cd7a415494dea5e9c4fe177f",
            "707b9358365640319de1687e5e65d15a",
            "cd4fcd7e403a4b769d71f2280d5c1ceb",
            "0cd988defbb6454fbfdba1c23fea3cbb",
            "24c4aacc045545b9b9dc7964b3a9e8bf",
            "1060d966f42b44ae9039a02607f06304",
            "661ff8244bd74e4294bbb13ee74b180f",
            "01c2692b91f6422c8f496cdd1e5400ea",
            "9c4fbabae6704c6386a637b2f90eb3f3",
            "22bd993cbc054ddba57f9184a9814dd1",
            "3bc4ce3347c84ab6b2265a1417842bcb",
            "d01783be89af4b96b2b40526c6441213",
            "61ef32c83bf944228854582c3e166b24",
            "8629436359214c9bbaa4e9252ecd62ca",
            "a3a1df81505e45f7aac462842c2beb9b",
            "49b7de867c7044d895b8712d6535220d",
            "79b8c64cfa2f46aba253060471fd04e3",
            "d6e9ad615c1d4f458fe139013a0af515",
            "fd1df1f5df134d09ab233507eeafd14b",
            "62715a6e6030443fbb4bb9861c699f12",
            "0c4b425643b5452ebe4b5a3e2728b2c8",
            "0f7e8aae3e2d43f8b53d22640439dfbd",
            "2ee3948636e040b18f95de7cd9ce8f79",
            "af46f8a9815346bd80eee049f5271601",
            "97d9f4a57ae842fab0d61805e1b56023",
            "0ecd884e6c3d4a779f6700b75de3849d",
            "f968b71307844131bed004794c0492f1",
            "45a1ccc9a6f94345812cdcbcdc8303e7"
          ]
        },
        "outputId": "7dd076ac-1019-442b-d700-6f415275aa2e"
      },
      "execution_count": 6,
      "outputs": [
        {
          "output_type": "stream",
          "name": "stderr",
          "text": [
            "INFO: GPU available: True (cuda), used: True\n",
            "INFO:lightning.pytorch.utilities.rank_zero:GPU available: True (cuda), used: True\n",
            "INFO: TPU available: False, using: 0 TPU cores\n",
            "INFO:lightning.pytorch.utilities.rank_zero:TPU available: False, using: 0 TPU cores\n",
            "INFO: HPU available: False, using: 0 HPUs\n",
            "INFO:lightning.pytorch.utilities.rank_zero:HPU available: False, using: 0 HPUs\n",
            "INFO: LOCAL_RANK: 0 - CUDA_VISIBLE_DEVICES: [0]\n",
            "INFO:lightning.pytorch.accelerators.cuda:LOCAL_RANK: 0 - CUDA_VISIBLE_DEVICES: [0]\n",
            "INFO: \n",
            "  | Name        | Type               | Params | Mode \n",
            "-----------------------------------------------------------\n",
            "0 | conv_layers | Sequential         | 92.7 K | train\n",
            "1 | fc_layers   | Sequential         | 2.1 M  | train\n",
            "2 | accuracy    | MulticlassAccuracy | 0      | train\n",
            "-----------------------------------------------------------\n",
            "2.2 M     Trainable params\n",
            "0         Non-trainable params\n",
            "2.2 M     Total params\n",
            "8.771     Total estimated model params size (MB)\n",
            "16        Modules in train mode\n",
            "0         Modules in eval mode\n",
            "INFO:lightning.pytorch.callbacks.model_summary:\n",
            "  | Name        | Type               | Params | Mode \n",
            "-----------------------------------------------------------\n",
            "0 | conv_layers | Sequential         | 92.7 K | train\n",
            "1 | fc_layers   | Sequential         | 2.1 M  | train\n",
            "2 | accuracy    | MulticlassAccuracy | 0      | train\n",
            "-----------------------------------------------------------\n",
            "2.2 M     Trainable params\n",
            "0         Non-trainable params\n",
            "2.2 M     Total params\n",
            "8.771     Total estimated model params size (MB)\n",
            "16        Modules in train mode\n",
            "0         Modules in eval mode\n"
          ]
        },
        {
          "output_type": "display_data",
          "data": {
            "text/plain": [
              "Sanity Checking: |          | 0/? [00:00<?, ?it/s]"
            ],
            "application/vnd.jupyter.widget-view+json": {
              "version_major": 2,
              "version_minor": 0,
              "model_id": "7c2474101a2f4e11bf7a0b9a8b46884c"
            }
          },
          "metadata": {}
        },
        {
          "output_type": "display_data",
          "data": {
            "text/plain": [
              "Training: |          | 0/? [00:00<?, ?it/s]"
            ],
            "application/vnd.jupyter.widget-view+json": {
              "version_major": 2,
              "version_minor": 0,
              "model_id": "f2a770579291467f9fa06c3cf6b90fea"
            }
          },
          "metadata": {}
        },
        {
          "output_type": "display_data",
          "data": {
            "text/plain": [
              "Validation: |          | 0/? [00:00<?, ?it/s]"
            ],
            "application/vnd.jupyter.widget-view+json": {
              "version_major": 2,
              "version_minor": 0,
              "model_id": "1891156ccee74ea3b925fc0f3bdde8d2"
            }
          },
          "metadata": {}
        },
        {
          "output_type": "display_data",
          "data": {
            "text/plain": [
              "Validation: |          | 0/? [00:00<?, ?it/s]"
            ],
            "application/vnd.jupyter.widget-view+json": {
              "version_major": 2,
              "version_minor": 0,
              "model_id": "4be8545be59145a3b9d80dad0b11b51c"
            }
          },
          "metadata": {}
        },
        {
          "output_type": "display_data",
          "data": {
            "text/plain": [
              "Validation: |          | 0/? [00:00<?, ?it/s]"
            ],
            "application/vnd.jupyter.widget-view+json": {
              "version_major": 2,
              "version_minor": 0,
              "model_id": "8903c858c9c041e7ac052e4b14e5b9f7"
            }
          },
          "metadata": {}
        },
        {
          "output_type": "display_data",
          "data": {
            "text/plain": [
              "Validation: |          | 0/? [00:00<?, ?it/s]"
            ],
            "application/vnd.jupyter.widget-view+json": {
              "version_major": 2,
              "version_minor": 0,
              "model_id": "537d25aafb6a434d9ebf5bca15ff04fe"
            }
          },
          "metadata": {}
        },
        {
          "output_type": "display_data",
          "data": {
            "text/plain": [
              "Validation: |          | 0/? [00:00<?, ?it/s]"
            ],
            "application/vnd.jupyter.widget-view+json": {
              "version_major": 2,
              "version_minor": 0,
              "model_id": "8b4eee90211046f0911e22b9cfbbba7b"
            }
          },
          "metadata": {}
        },
        {
          "output_type": "display_data",
          "data": {
            "text/plain": [
              "Validation: |          | 0/? [00:00<?, ?it/s]"
            ],
            "application/vnd.jupyter.widget-view+json": {
              "version_major": 2,
              "version_minor": 0,
              "model_id": "1e7c37c700ae4860b5a97e2c0e534a6e"
            }
          },
          "metadata": {}
        },
        {
          "output_type": "display_data",
          "data": {
            "text/plain": [
              "Validation: |          | 0/? [00:00<?, ?it/s]"
            ],
            "application/vnd.jupyter.widget-view+json": {
              "version_major": 2,
              "version_minor": 0,
              "model_id": "1020f17d9f0344bbb182a28ef25df51d"
            }
          },
          "metadata": {}
        },
        {
          "output_type": "display_data",
          "data": {
            "text/plain": [
              "Validation: |          | 0/? [00:00<?, ?it/s]"
            ],
            "application/vnd.jupyter.widget-view+json": {
              "version_major": 2,
              "version_minor": 0,
              "model_id": "b0fb00a334b2403693d7fbcafde881c3"
            }
          },
          "metadata": {}
        },
        {
          "output_type": "display_data",
          "data": {
            "text/plain": [
              "Validation: |          | 0/? [00:00<?, ?it/s]"
            ],
            "application/vnd.jupyter.widget-view+json": {
              "version_major": 2,
              "version_minor": 0,
              "model_id": "18a8d85a07534b99bc7ff5fc8bc8278b"
            }
          },
          "metadata": {}
        },
        {
          "output_type": "display_data",
          "data": {
            "text/plain": [
              "Validation: |          | 0/? [00:00<?, ?it/s]"
            ],
            "application/vnd.jupyter.widget-view+json": {
              "version_major": 2,
              "version_minor": 0,
              "model_id": "c887ea20387a40599ebae0f3f12bde02"
            }
          },
          "metadata": {}
        },
        {
          "output_type": "display_data",
          "data": {
            "text/plain": [
              "Validation: |          | 0/? [00:00<?, ?it/s]"
            ],
            "application/vnd.jupyter.widget-view+json": {
              "version_major": 2,
              "version_minor": 0,
              "model_id": "661ff8244bd74e4294bbb13ee74b180f"
            }
          },
          "metadata": {}
        },
        {
          "output_type": "stream",
          "name": "stderr",
          "text": [
            "INFO: LOCAL_RANK: 0 - CUDA_VISIBLE_DEVICES: [0]\n",
            "INFO:lightning.pytorch.accelerators.cuda:LOCAL_RANK: 0 - CUDA_VISIBLE_DEVICES: [0]\n"
          ]
        },
        {
          "output_type": "display_data",
          "data": {
            "text/plain": [
              "Testing: |          | 0/? [00:00<?, ?it/s]"
            ],
            "application/vnd.jupyter.widget-view+json": {
              "version_major": 2,
              "version_minor": 0,
              "model_id": "d6e9ad615c1d4f458fe139013a0af515"
            }
          },
          "metadata": {}
        },
        {
          "output_type": "display_data",
          "data": {
            "text/plain": [
              "┏━━━━━━━━━━━━━━━━━━━━━━━━━━━┳━━━━━━━━━━━━━━━━━━━━━━━━━━━┓\n",
              "┃\u001b[1m \u001b[0m\u001b[1m       Test metric       \u001b[0m\u001b[1m \u001b[0m┃\u001b[1m \u001b[0m\u001b[1m      DataLoader 0       \u001b[0m\u001b[1m \u001b[0m┃\n",
              "┡━━━━━━━━━━━━━━━━━━━━━━━━━━━╇━━━━━━━━━━━━━━━━━━━━━━━━━━━┩\n",
              "│\u001b[36m \u001b[0m\u001b[36m      test_accuracy      \u001b[0m\u001b[36m \u001b[0m│\u001b[35m \u001b[0m\u001b[35m   0.6010190844535828    \u001b[0m\u001b[35m \u001b[0m│\n",
              "│\u001b[36m \u001b[0m\u001b[36m        test_loss        \u001b[0m\u001b[36m \u001b[0m│\u001b[35m \u001b[0m\u001b[35m    2.269066095352173    \u001b[0m\u001b[35m \u001b[0m│\n",
              "└───────────────────────────┴───────────────────────────┘\n"
            ],
            "text/html": [
              "<pre style=\"white-space:pre;overflow-x:auto;line-height:normal;font-family:Menlo,'DejaVu Sans Mono',consolas,'Courier New',monospace\">┏━━━━━━━━━━━━━━━━━━━━━━━━━━━┳━━━━━━━━━━━━━━━━━━━━━━━━━━━┓\n",
              "┃<span style=\"font-weight: bold\">        Test metric        </span>┃<span style=\"font-weight: bold\">       DataLoader 0        </span>┃\n",
              "┡━━━━━━━━━━━━━━━━━━━━━━━━━━━╇━━━━━━━━━━━━━━━━━━━━━━━━━━━┩\n",
              "│<span style=\"color: #008080; text-decoration-color: #008080\">       test_accuracy       </span>│<span style=\"color: #800080; text-decoration-color: #800080\">    0.6010190844535828     </span>│\n",
              "│<span style=\"color: #008080; text-decoration-color: #008080\">         test_loss         </span>│<span style=\"color: #800080; text-decoration-color: #800080\">     2.269066095352173     </span>│\n",
              "└───────────────────────────┴───────────────────────────┘\n",
              "</pre>\n"
            ]
          },
          "metadata": {}
        },
        {
          "output_type": "execute_result",
          "data": {
            "text/plain": [
              "[{'test_accuracy': 0.6010190844535828, 'test_loss': 2.269066095352173}]"
            ]
          },
          "metadata": {},
          "execution_count": 6
        }
      ]
    },
    {
      "cell_type": "markdown",
      "source": [
        "#ResNet 18 model"
      ],
      "metadata": {
        "id": "Gd9CcUqpDBvp"
      }
    },
    {
      "cell_type": "code",
      "source": [
        "import torchvision.models as models\n",
        "import lightning as L\n",
        "import torch.nn.functional as F\n",
        "import torchmetrics\n",
        "import torch\n",
        "from torch import nn\n",
        "\n",
        "class ResNet18Classifier(L.LightningModule):\n",
        "    def __init__(self, num_classes=10):\n",
        "        super().__init__()\n",
        "        self.model = models.resnet18(pretrained=False)\n",
        "\n",
        "        # Since we're using grayscale images, change the input layer from 3 channels to 1\n",
        "        self.model.conv1 = nn.Conv2d(1, 64, kernel_size=7, stride=2, padding=3, bias=False)\n",
        "\n",
        "        # Modify the final FC layer to match the number of classes\n",
        "        self.model.fc = nn.Linear(self.model.fc.in_features, num_classes)\n",
        "\n",
        "        self.accuracy = torchmetrics.Accuracy(task=\"multiclass\", num_classes=num_classes)\n",
        "\n",
        "    def forward(self, x):\n",
        "        return self.model(x)\n",
        "\n",
        "    def training_step(self, batch, batch_idx):\n",
        "        x, y = batch\n",
        "        y_hat = self(x)\n",
        "        loss = F.cross_entropy(y_hat, y)\n",
        "        self.log(\"train_loss\", loss)\n",
        "        return loss\n",
        "\n",
        "    def validation_step(self, batch, batch_idx):\n",
        "        x, y = batch\n",
        "        y_hat = self(x)\n",
        "        loss = F.cross_entropy(y_hat, y)\n",
        "        self.accuracy(y_hat, y)\n",
        "        self.log(\"val_accuracy\", self.accuracy, prog_bar=True)\n",
        "        self.log(\"val_loss\", loss)\n",
        "        return loss\n",
        "\n",
        "    def test_step(self, batch, batch_idx):\n",
        "        x, y = batch\n",
        "        y_hat = self(x)\n",
        "        loss = F.cross_entropy(y_hat, y)\n",
        "        self.accuracy(y_hat, y)\n",
        "        self.log(\"test_accuracy\", self.accuracy)\n",
        "        self.log(\"test_loss\", loss)\n",
        "\n",
        "    def configure_optimizers(self):\n",
        "        return torch.optim.Adam(self.parameters(), lr=1e-3)\n"
      ],
      "metadata": {
        "id": "-jwq-vEtDIZS"
      },
      "execution_count": 7,
      "outputs": []
    },
    {
      "cell_type": "markdown",
      "source": [
        "##Train and Evaluate ResNet 18"
      ],
      "metadata": {
        "id": "seGsVavyDak9"
      }
    },
    {
      "cell_type": "code",
      "source": [
        "# Instantiate the model\n",
        "resnet_model = ResNet18Classifier()\n",
        "\n",
        "# Define Trainer and callbacks\n",
        "trainer = L.Trainer(\n",
        "    accelerator=\"auto\",\n",
        "    max_epochs=50,\n",
        "    callbacks=[early_stop_callback, checkpoint_callback],\n",
        "    log_every_n_steps=10\n",
        ")\n",
        "\n",
        "# Train the model\n",
        "trainer.fit(model=resnet_model, train_dataloaders=train_loader, val_dataloaders=val_loader)\n",
        "\n",
        "# Evaluate on the test set\n",
        "test_loader = torch.utils.data.DataLoader(test_dataset, batch_size=64, num_workers=2, shuffle=False)\n",
        "trainer.test(model=resnet_model, dataloaders=test_loader)\n"
      ],
      "metadata": {
        "id": "vOVTwQkODfjV",
        "colab": {
          "base_uri": "https://localhost:8080/",
          "height": 891,
          "referenced_widgets": [
            "3755397788034e3db04679ffaba6818b",
            "0c871de4dce54b0f9bf12a5f93860374",
            "cbafde94e6454a719fe9b37d8a189526",
            "ecc3c81ecdee4854907666c6fec5dfea",
            "53f31a40a8304ab8ab6c94a1b397f7ca",
            "9eaef316763646b4a9a863f225980255",
            "a01c21cb6d8c47c6b43175625fe9b8a7",
            "d0fcb6b89c934967a226ab1b29a98a78",
            "2bd55f362deb4267b090fa13e906115d",
            "92e4c517fb324ee3a518003f854e64e7",
            "a256b3bd597042eb806daf16e1096acf",
            "f52f93c0715048c28ea5eb8f6c525ab1",
            "b2c40566835d44139b942ef2d3cbca64",
            "91e017ab3ed041088bf0fd9f54fcdc59",
            "d0678a56d675435abaa7b25aa2cb1f64",
            "2995c3cf69514e3bb03f6562f5b5a27f",
            "236038682bbc4af2a3df6ba0c085c3f2",
            "aad1293f620e463fa577ce9e92482b69",
            "8fd6de84cc644ab792856c9ed47825bd",
            "ce89f02a0e1a4de8a9d214097c670648",
            "70fba23dcccf4d77a36f73a964f2fe4a",
            "ecca12421a3a4967a0cb6c4ad09dc2bd",
            "fab03c74c1f4453980b6978324def3bb",
            "03d3725d373a4a909a0f5ecb0c6d7c3c",
            "5675801d3d93478ea85c84d3cd340ffe",
            "1c7c400fce104e20bdffaf2d9d5f9ef4",
            "e42b44c06db244f692c6aa806f74627b",
            "b4513085a6ed4872bc93b8903aedc521",
            "35b5b1d670f648ddacdb25ea6f6eb1e5",
            "d0d9feb80310448cb5c1c01fad41d9ab",
            "2af78067c7ea4f1685f69bee7d7a9da7",
            "302fcbb6fb8c45eb9de68d2e5dd4682a",
            "818e872721d64f638634af4cb9a26b78",
            "21d07e2843204d998d70e27fbe037e4f",
            "0a8e29dc1e6f48e4a335577c0f509112",
            "c777b8fa2fae4028818f1bc8d260fe30",
            "bc46b8ee995c449a8a91f8f15f11bcc1",
            "ae51483987924db3a59ecdaa474357c5",
            "46200c25c082495f9dc831c00a08b753",
            "a9e7b5d9537746af8cfc39c0845f5571",
            "9031b8f8c4464d91a4883df0f02ad69c",
            "1ff8e32fa6354baf92cc206ae45a08ef",
            "69fcd95459df434fb92450e46c468775",
            "9052219888c543e1b07607fa6b227ee5"
          ]
        },
        "outputId": "e8835ca7-b2ab-48dd-b20d-87171b5bfea2"
      },
      "execution_count": 8,
      "outputs": [
        {
          "output_type": "stream",
          "name": "stderr",
          "text": [
            "/usr/local/lib/python3.11/dist-packages/torchvision/models/_utils.py:208: UserWarning: The parameter 'pretrained' is deprecated since 0.13 and may be removed in the future, please use 'weights' instead.\n",
            "  warnings.warn(\n",
            "/usr/local/lib/python3.11/dist-packages/torchvision/models/_utils.py:223: UserWarning: Arguments other than a weight enum or `None` for 'weights' are deprecated since 0.13 and may be removed in the future. The current behavior is equivalent to passing `weights=None`.\n",
            "  warnings.warn(msg)\n",
            "INFO: GPU available: True (cuda), used: True\n",
            "INFO:lightning.pytorch.utilities.rank_zero:GPU available: True (cuda), used: True\n",
            "INFO: TPU available: False, using: 0 TPU cores\n",
            "INFO:lightning.pytorch.utilities.rank_zero:TPU available: False, using: 0 TPU cores\n",
            "INFO: HPU available: False, using: 0 HPUs\n",
            "INFO:lightning.pytorch.utilities.rank_zero:HPU available: False, using: 0 HPUs\n",
            "/usr/local/lib/python3.11/dist-packages/lightning/pytorch/callbacks/model_checkpoint.py:654: Checkpoint directory /content/lightning_logs/version_1/checkpoints exists and is not empty.\n",
            "INFO: LOCAL_RANK: 0 - CUDA_VISIBLE_DEVICES: [0]\n",
            "INFO:lightning.pytorch.accelerators.cuda:LOCAL_RANK: 0 - CUDA_VISIBLE_DEVICES: [0]\n",
            "INFO: \n",
            "  | Name     | Type               | Params | Mode \n",
            "--------------------------------------------------------\n",
            "0 | model    | ResNet             | 11.2 M | train\n",
            "1 | accuracy | MulticlassAccuracy | 0      | train\n",
            "--------------------------------------------------------\n",
            "11.2 M    Trainable params\n",
            "0         Non-trainable params\n",
            "11.2 M    Total params\n",
            "44.701    Total estimated model params size (MB)\n",
            "69        Modules in train mode\n",
            "0         Modules in eval mode\n",
            "INFO:lightning.pytorch.callbacks.model_summary:\n",
            "  | Name     | Type               | Params | Mode \n",
            "--------------------------------------------------------\n",
            "0 | model    | ResNet             | 11.2 M | train\n",
            "1 | accuracy | MulticlassAccuracy | 0      | train\n",
            "--------------------------------------------------------\n",
            "11.2 M    Trainable params\n",
            "0         Non-trainable params\n",
            "11.2 M    Total params\n",
            "44.701    Total estimated model params size (MB)\n",
            "69        Modules in train mode\n",
            "0         Modules in eval mode\n"
          ]
        },
        {
          "output_type": "display_data",
          "data": {
            "text/plain": [
              "Sanity Checking: |          | 0/? [00:00<?, ?it/s]"
            ],
            "application/vnd.jupyter.widget-view+json": {
              "version_major": 2,
              "version_minor": 0,
              "model_id": "3755397788034e3db04679ffaba6818b"
            }
          },
          "metadata": {}
        },
        {
          "output_type": "display_data",
          "data": {
            "text/plain": [
              "Training: |          | 0/? [00:00<?, ?it/s]"
            ],
            "application/vnd.jupyter.widget-view+json": {
              "version_major": 2,
              "version_minor": 0,
              "model_id": "f52f93c0715048c28ea5eb8f6c525ab1"
            }
          },
          "metadata": {}
        },
        {
          "output_type": "display_data",
          "data": {
            "text/plain": [
              "Validation: |          | 0/? [00:00<?, ?it/s]"
            ],
            "application/vnd.jupyter.widget-view+json": {
              "version_major": 2,
              "version_minor": 0,
              "model_id": "fab03c74c1f4453980b6978324def3bb"
            }
          },
          "metadata": {}
        },
        {
          "output_type": "stream",
          "name": "stderr",
          "text": [
            "INFO: LOCAL_RANK: 0 - CUDA_VISIBLE_DEVICES: [0]\n",
            "INFO:lightning.pytorch.accelerators.cuda:LOCAL_RANK: 0 - CUDA_VISIBLE_DEVICES: [0]\n"
          ]
        },
        {
          "output_type": "display_data",
          "data": {
            "text/plain": [
              "Testing: |          | 0/? [00:00<?, ?it/s]"
            ],
            "application/vnd.jupyter.widget-view+json": {
              "version_major": 2,
              "version_minor": 0,
              "model_id": "21d07e2843204d998d70e27fbe037e4f"
            }
          },
          "metadata": {}
        },
        {
          "output_type": "display_data",
          "data": {
            "text/plain": [
              "┏━━━━━━━━━━━━━━━━━━━━━━━━━━━┳━━━━━━━━━━━━━━━━━━━━━━━━━━━┓\n",
              "┃\u001b[1m \u001b[0m\u001b[1m       Test metric       \u001b[0m\u001b[1m \u001b[0m┃\u001b[1m \u001b[0m\u001b[1m      DataLoader 0       \u001b[0m\u001b[1m \u001b[0m┃\n",
              "┡━━━━━━━━━━━━━━━━━━━━━━━━━━━╇━━━━━━━━━━━━━━━━━━━━━━━━━━━┩\n",
              "│\u001b[36m \u001b[0m\u001b[36m      test_accuracy      \u001b[0m\u001b[36m \u001b[0m│\u001b[35m \u001b[0m\u001b[35m    0.499872624874115    \u001b[0m\u001b[35m \u001b[0m│\n",
              "│\u001b[36m \u001b[0m\u001b[36m        test_loss        \u001b[0m\u001b[36m \u001b[0m│\u001b[35m \u001b[0m\u001b[35m   1.5042179822921753    \u001b[0m\u001b[35m \u001b[0m│\n",
              "└───────────────────────────┴───────────────────────────┘\n"
            ],
            "text/html": [
              "<pre style=\"white-space:pre;overflow-x:auto;line-height:normal;font-family:Menlo,'DejaVu Sans Mono',consolas,'Courier New',monospace\">┏━━━━━━━━━━━━━━━━━━━━━━━━━━━┳━━━━━━━━━━━━━━━━━━━━━━━━━━━┓\n",
              "┃<span style=\"font-weight: bold\">        Test metric        </span>┃<span style=\"font-weight: bold\">       DataLoader 0        </span>┃\n",
              "┡━━━━━━━━━━━━━━━━━━━━━━━━━━━╇━━━━━━━━━━━━━━━━━━━━━━━━━━━┩\n",
              "│<span style=\"color: #008080; text-decoration-color: #008080\">       test_accuracy       </span>│<span style=\"color: #800080; text-decoration-color: #800080\">     0.499872624874115     </span>│\n",
              "│<span style=\"color: #008080; text-decoration-color: #008080\">         test_loss         </span>│<span style=\"color: #800080; text-decoration-color: #800080\">    1.5042179822921753     </span>│\n",
              "└───────────────────────────┴───────────────────────────┘\n",
              "</pre>\n"
            ]
          },
          "metadata": {}
        },
        {
          "output_type": "execute_result",
          "data": {
            "text/plain": [
              "[{'test_accuracy': 0.499872624874115, 'test_loss': 1.5042179822921753}]"
            ]
          },
          "metadata": {},
          "execution_count": 8
        }
      ]
    },
    {
      "cell_type": "markdown",
      "source": [
        "#Regularization for ResNet 18 model using data augmentation technique.\n",
        "**Steps**\n",
        "- Go back to the Imagenette dataset preparation section.\n",
        "- Uncomment the train_transform section for the regularization and comment the regular train_transform above it.\n",
        "- Re-run the cell.\n",
        "- Comback and run the ResNet 18 with augmentation model below."
      ],
      "metadata": {
        "id": "qsGq9Aq9JGQB"
      }
    },
    {
      "cell_type": "markdown",
      "source": [
        "##Train and evaluate ResNet 18 model with Data Augmentation."
      ],
      "metadata": {
        "id": "XOOdJgLHKC_U"
      }
    },
    {
      "cell_type": "code",
      "source": [
        "# Instantiate the model\n",
        "resnet_model_augmented = ResNet18Classifier()\n",
        "\n",
        "# Define Trainer and callbacks\n",
        "trainer = L.Trainer(\n",
        "    accelerator=\"auto\",\n",
        "    max_epochs=50,\n",
        "    callbacks=[early_stop_callback, checkpoint_callback],\n",
        "    log_every_n_steps=10\n",
        ")\n",
        "\n",
        "# Train the model\n",
        "trainer.fit(model=resnet_model_augmented, train_dataloaders=train_loader, val_dataloaders=val_loader)\n",
        "\n",
        "# Evaluate on the test set\n",
        "test_loader = torch.utils.data.DataLoader(test_dataset, batch_size=64, num_workers=2, shuffle=False)\n",
        "trainer.test(model=resnet_model_augmented, dataloaders=test_loader)"
      ],
      "metadata": {
        "id": "bAxHFhqPKS_U",
        "colab": {
          "base_uri": "https://localhost:8080/",
          "height": 785,
          "referenced_widgets": [
            "efa1f4daa3f44f4a94ef7693a4650787",
            "ad1b974d23884d6e89f1c64ac9c55afb",
            "7000f73a0cb04c068f22bd96b16a112b",
            "df3bb3f13aef4b24a514ac577e2f7c25",
            "8d8769d42e7b4a1a86b2c86b79a39841",
            "dab1206dcb794f2ea8bc15b72aa9cac5",
            "1f0a5234b093484286323a878f5c9001",
            "ae06d78d88a94fed942d792385b8f35f",
            "6d08506461544aff8697a4cd47e8b5be",
            "4725988e60544719b77d894f3dd64ba5",
            "3a1d9ec14b7d410a988b51380af397c5",
            "0b251be52206432e9dc817035621c6e0",
            "ad938ba052b74661aac2188ff9f1cd27",
            "23bc08949ffb45cdab16dc03a5487e01",
            "06ccb5cf78964f1fb6390fc8cefdc56c",
            "346f73c6cf614694bcb87eb8593a0ca1",
            "cc14101fe6fa4049924c423719ffaee7",
            "c49963d27d5341cca33cffb5440db5dd",
            "6b30cc2062f8445eb9df94c46a8d6ed0",
            "7a689a769ab347bf98bbcb54e98c0ce7",
            "3fc428d8a360443ea573a63daf0eacef",
            "ec075d66651f4b10aaa1d14154b59c45",
            "f1799c1239f049aab616eddede9dceca",
            "ecf01aeabb4a4d0495ada151836b5458",
            "54facc3e0d0e4b3e8bfaf206fe7128d2",
            "1be859ac2f974fdbbb52e6eed608e3d5",
            "a0edd051c122451bbb43a6ef6dfaa6e3",
            "1c88f640e1e34cfc94224c9fe17f4b52",
            "8a418596e4354ec5b6f52c9635cb8029",
            "ee7cba9ebd23433887b2473524f6a93d",
            "253ad600665e4db5b454ab14e90c8a5a",
            "932f7d23dfdb45f19063ac3c9690acb2",
            "49ef72494b234394a6e148734aa1abbf",
            "7b1d1d6b2550474fa5bbf067e02fb067",
            "05b729e080814b62a0e022e73e50109d",
            "87fb5d0046084e7caa4ffa5beacbdbd0",
            "e8c0095afd4f4687b94eca64a0130072",
            "48f29f250b524aeda47cf5e99442e58c",
            "972144b531f44fd8bb53bc689aa21d19",
            "bdb33f6cddb845ccb8d4b71d697be21a",
            "e621fc7cba344a79bf86167d36789ab8",
            "4fbc04d4662047f99a031a75e79eb1fa",
            "63652160f3e947d6a1cc29e54c811168",
            "3300a0328827497587a2d09764478489",
            "f34ea30b99794bdb933519c195f9b22e",
            "7c0119c7a7af47e5924174b57716f1c7",
            "5264b3f4771d4522ae2cd013ae7814c8",
            "e81a34b38fab45e5a2b2a87f2ee99e9c",
            "1ba40fa87d3546ce9c26acd2a81ef555",
            "c46a95b7a4574613972aef5c5f394ab5",
            "8e09ee918be74a579461679b4e4e245c",
            "1868ba7ad09b4ae18e9d70a76c422d22",
            "67d00e5f928143f6bbdc9e19d9de7545",
            "87a410303d0944219bfdb4f40ed20bd9",
            "c3915930e2b44464b573d71f24b57beb",
            "42e7a2f2e83640cc99a3b3f48cd570c2",
            "8ab06cdf70134f438e90f38345c0390e",
            "1d816d535c3740aaadeba582d43f73c6",
            "125d92e31a5d44d78eb5f66e15c0b2a3",
            "ff02badd9bdb450bbb0f2228f4d55342",
            "522a8f776e2041b99826878aaa74126b",
            "9087c1c416ea4a02942545d4ccc071b2",
            "afad579050f044e7b22023e666155442",
            "499b446754ae484ab92c3ec98f824e7f",
            "4e8a98e1ec7c4960862ceb66e6d40782",
            "8bef9b2917a7408c903ebfa65b2fd3d4",
            "0190f55422fd4dbe8c117a3419474038",
            "f43b6b0d8ed94d808a9776592aff6aee",
            "b08bde21323d4d648e1469db03ec5b3a",
            "ee85f8c98c1844da982ef9b6136a0cdb",
            "337125342c4a4f1395e2299bf32b2dac",
            "ba2cf19d1bc64d95b901704d8998ebeb",
            "4a21918084b645d6bf0ae4ae090dcff8",
            "5ff52e8702074d278980ba64f7b5af71",
            "811208426b5b401fb873042db8cf2d4d",
            "d6cdc34b6c7043a28902e47a07bfe4a8",
            "5a256d18c8004b06b97f6a6cf63a424b",
            "327a797881054dd293bc79055e291e3e",
            "26a99efb935349d6a01fe031e0d16293",
            "643de99004814fc38ae0ae0b69c27962",
            "07c9633c55764f5e9d8f738fd62f5ba5",
            "554b4fc9a7ed4da2a89c00b98d10d8ea",
            "02a2a04affd24e119061026993632b45",
            "4b5fb32d2be74833b99c4ac406244248",
            "40c07e6f04f349de9f947829320ba048",
            "85ad4d0f1fc546b28ff9c7ca809cce36",
            "a14184e08a894f34aee50b182e5ba831",
            "59b18cccf7624559b7ca24a5737b9348",
            "db2f33536592461bba09160cb6ba6c21",
            "b5107069292e4152831d21f9718907c8",
            "6db35be0056847cfac7e37ae251d9920",
            "72509313a6b94aa091d595b6bb2c397c",
            "8448d1e74e0e4cb1aacf788486fcaa8e",
            "1de56668aee1496098d5231b4649830f",
            "563bead069574513a625c79ec015ec94",
            "96c5605fd310463d95758bde60425085",
            "ffee71e891244d2eac6fead714979753",
            "1a5f3c04ab41414faf4a228357c1b319",
            "047f8d35fc29419b926cb0802bf6d554",
            "0f6a5c5ca0ad4a56bd009e5672242eee",
            "d48fcaca31764c5db9fd304b754604e7",
            "be0c31f70d474e90b8bd4cc03c925514",
            "c9bfb45c4a0f4abf900149348a2bef5e",
            "6535eabec29f42d2a5ede03b8d333760",
            "d32519db35b245aab16bf402487079b0",
            "a19be8b4d46143cb9ff82b7e71e803c6",
            "aa9c08911b5d427e8276e32833d73bb6",
            "ceecb9f4c3ae4d38b48d0d124758248e",
            "25b378e7c7a447189e609b3c581c8409",
            "11834f73c400459a8d518b132457bd7a",
            "492298b705514269bc1c73176026fa36",
            "66543f1f6bdb49bfa8f83a7c18f4e558",
            "e242a53619ff4fc88ba9f2be0ad01201",
            "b7af722e268d44e8b39584d4300c398a",
            "13d7bcd32eee44a2951c7c7602371704",
            "62e7893a573c49c2b9d5dea7e296b1f9",
            "3624c916eb59487b840317a253f4c628",
            "5aa0e15f4b8a4c998a68071be068d5b4",
            "84edca04eca445d88ce5895c7cf66771",
            "dc6eb459e7dc4270b73e9b45834ed9ca",
            "89402086ef4048e4845911efaf617b89"
          ]
        },
        "outputId": "0cf8c393-0ed9-4fb3-df16-950b1d0a8ee2"
      },
      "execution_count": 10,
      "outputs": [
        {
          "output_type": "stream",
          "name": "stderr",
          "text": [
            "INFO: GPU available: True (cuda), used: True\n",
            "INFO:lightning.pytorch.utilities.rank_zero:GPU available: True (cuda), used: True\n",
            "INFO: TPU available: False, using: 0 TPU cores\n",
            "INFO:lightning.pytorch.utilities.rank_zero:TPU available: False, using: 0 TPU cores\n",
            "INFO: HPU available: False, using: 0 HPUs\n",
            "INFO:lightning.pytorch.utilities.rank_zero:HPU available: False, using: 0 HPUs\n",
            "INFO: LOCAL_RANK: 0 - CUDA_VISIBLE_DEVICES: [0]\n",
            "INFO:lightning.pytorch.accelerators.cuda:LOCAL_RANK: 0 - CUDA_VISIBLE_DEVICES: [0]\n",
            "INFO: \n",
            "  | Name     | Type               | Params | Mode \n",
            "--------------------------------------------------------\n",
            "0 | model    | ResNet             | 11.2 M | train\n",
            "1 | accuracy | MulticlassAccuracy | 0      | train\n",
            "--------------------------------------------------------\n",
            "11.2 M    Trainable params\n",
            "0         Non-trainable params\n",
            "11.2 M    Total params\n",
            "44.701    Total estimated model params size (MB)\n",
            "69        Modules in train mode\n",
            "0         Modules in eval mode\n",
            "INFO:lightning.pytorch.callbacks.model_summary:\n",
            "  | Name     | Type               | Params | Mode \n",
            "--------------------------------------------------------\n",
            "0 | model    | ResNet             | 11.2 M | train\n",
            "1 | accuracy | MulticlassAccuracy | 0      | train\n",
            "--------------------------------------------------------\n",
            "11.2 M    Trainable params\n",
            "0         Non-trainable params\n",
            "11.2 M    Total params\n",
            "44.701    Total estimated model params size (MB)\n",
            "69        Modules in train mode\n",
            "0         Modules in eval mode\n"
          ]
        },
        {
          "output_type": "display_data",
          "data": {
            "text/plain": [
              "Sanity Checking: |          | 0/? [00:00<?, ?it/s]"
            ],
            "application/vnd.jupyter.widget-view+json": {
              "version_major": 2,
              "version_minor": 0,
              "model_id": "efa1f4daa3f44f4a94ef7693a4650787"
            }
          },
          "metadata": {}
        },
        {
          "output_type": "display_data",
          "data": {
            "text/plain": [
              "Training: |          | 0/? [00:00<?, ?it/s]"
            ],
            "application/vnd.jupyter.widget-view+json": {
              "version_major": 2,
              "version_minor": 0,
              "model_id": "0b251be52206432e9dc817035621c6e0"
            }
          },
          "metadata": {}
        },
        {
          "output_type": "display_data",
          "data": {
            "text/plain": [
              "Validation: |          | 0/? [00:00<?, ?it/s]"
            ],
            "application/vnd.jupyter.widget-view+json": {
              "version_major": 2,
              "version_minor": 0,
              "model_id": "f1799c1239f049aab616eddede9dceca"
            }
          },
          "metadata": {}
        },
        {
          "output_type": "display_data",
          "data": {
            "text/plain": [
              "Validation: |          | 0/? [00:00<?, ?it/s]"
            ],
            "application/vnd.jupyter.widget-view+json": {
              "version_major": 2,
              "version_minor": 0,
              "model_id": "7b1d1d6b2550474fa5bbf067e02fb067"
            }
          },
          "metadata": {}
        },
        {
          "output_type": "display_data",
          "data": {
            "text/plain": [
              "Validation: |          | 0/? [00:00<?, ?it/s]"
            ],
            "application/vnd.jupyter.widget-view+json": {
              "version_major": 2,
              "version_minor": 0,
              "model_id": "f34ea30b99794bdb933519c195f9b22e"
            }
          },
          "metadata": {}
        },
        {
          "output_type": "display_data",
          "data": {
            "text/plain": [
              "Validation: |          | 0/? [00:00<?, ?it/s]"
            ],
            "application/vnd.jupyter.widget-view+json": {
              "version_major": 2,
              "version_minor": 0,
              "model_id": "42e7a2f2e83640cc99a3b3f48cd570c2"
            }
          },
          "metadata": {}
        },
        {
          "output_type": "display_data",
          "data": {
            "text/plain": [
              "Validation: |          | 0/? [00:00<?, ?it/s]"
            ],
            "application/vnd.jupyter.widget-view+json": {
              "version_major": 2,
              "version_minor": 0,
              "model_id": "0190f55422fd4dbe8c117a3419474038"
            }
          },
          "metadata": {}
        },
        {
          "output_type": "display_data",
          "data": {
            "text/plain": [
              "Validation: |          | 0/? [00:00<?, ?it/s]"
            ],
            "application/vnd.jupyter.widget-view+json": {
              "version_major": 2,
              "version_minor": 0,
              "model_id": "327a797881054dd293bc79055e291e3e"
            }
          },
          "metadata": {}
        },
        {
          "output_type": "display_data",
          "data": {
            "text/plain": [
              "Validation: |          | 0/? [00:00<?, ?it/s]"
            ],
            "application/vnd.jupyter.widget-view+json": {
              "version_major": 2,
              "version_minor": 0,
              "model_id": "db2f33536592461bba09160cb6ba6c21"
            }
          },
          "metadata": {}
        },
        {
          "output_type": "display_data",
          "data": {
            "text/plain": [
              "Validation: |          | 0/? [00:00<?, ?it/s]"
            ],
            "application/vnd.jupyter.widget-view+json": {
              "version_major": 2,
              "version_minor": 0,
              "model_id": "0f6a5c5ca0ad4a56bd009e5672242eee"
            }
          },
          "metadata": {}
        },
        {
          "output_type": "stream",
          "name": "stderr",
          "text": [
            "INFO: LOCAL_RANK: 0 - CUDA_VISIBLE_DEVICES: [0]\n",
            "INFO:lightning.pytorch.accelerators.cuda:LOCAL_RANK: 0 - CUDA_VISIBLE_DEVICES: [0]\n"
          ]
        },
        {
          "output_type": "display_data",
          "data": {
            "text/plain": [
              "Testing: |          | 0/? [00:00<?, ?it/s]"
            ],
            "application/vnd.jupyter.widget-view+json": {
              "version_major": 2,
              "version_minor": 0,
              "model_id": "492298b705514269bc1c73176026fa36"
            }
          },
          "metadata": {}
        },
        {
          "output_type": "display_data",
          "data": {
            "text/plain": [
              "┏━━━━━━━━━━━━━━━━━━━━━━━━━━━┳━━━━━━━━━━━━━━━━━━━━━━━━━━━┓\n",
              "┃\u001b[1m \u001b[0m\u001b[1m       Test metric       \u001b[0m\u001b[1m \u001b[0m┃\u001b[1m \u001b[0m\u001b[1m      DataLoader 0       \u001b[0m\u001b[1m \u001b[0m┃\n",
              "┡━━━━━━━━━━━━━━━━━━━━━━━━━━━╇━━━━━━━━━━━━━━━━━━━━━━━━━━━┩\n",
              "│\u001b[36m \u001b[0m\u001b[36m      test_accuracy      \u001b[0m\u001b[36m \u001b[0m│\u001b[35m \u001b[0m\u001b[35m   0.5768153071403503    \u001b[0m\u001b[35m \u001b[0m│\n",
              "│\u001b[36m \u001b[0m\u001b[36m        test_loss        \u001b[0m\u001b[36m \u001b[0m│\u001b[35m \u001b[0m\u001b[35m    2.017526149749756    \u001b[0m\u001b[35m \u001b[0m│\n",
              "└───────────────────────────┴───────────────────────────┘\n"
            ],
            "text/html": [
              "<pre style=\"white-space:pre;overflow-x:auto;line-height:normal;font-family:Menlo,'DejaVu Sans Mono',consolas,'Courier New',monospace\">┏━━━━━━━━━━━━━━━━━━━━━━━━━━━┳━━━━━━━━━━━━━━━━━━━━━━━━━━━┓\n",
              "┃<span style=\"font-weight: bold\">        Test metric        </span>┃<span style=\"font-weight: bold\">       DataLoader 0        </span>┃\n",
              "┡━━━━━━━━━━━━━━━━━━━━━━━━━━━╇━━━━━━━━━━━━━━━━━━━━━━━━━━━┩\n",
              "│<span style=\"color: #008080; text-decoration-color: #008080\">       test_accuracy       </span>│<span style=\"color: #800080; text-decoration-color: #800080\">    0.5768153071403503     </span>│\n",
              "│<span style=\"color: #008080; text-decoration-color: #008080\">         test_loss         </span>│<span style=\"color: #800080; text-decoration-color: #800080\">     2.017526149749756     </span>│\n",
              "└───────────────────────────┴───────────────────────────┘\n",
              "</pre>\n"
            ]
          },
          "metadata": {}
        },
        {
          "output_type": "execute_result",
          "data": {
            "text/plain": [
              "[{'test_accuracy': 0.5768153071403503, 'test_loss': 2.017526149749756}]"
            ]
          },
          "metadata": {},
          "execution_count": 10
        }
      ]
    },
    {
      "cell_type": "markdown",
      "source": [
        "**Notes**\n",
        "- Go back and undo the comment in the previous steps.\n",
        "- Run the dataset cell again.\n",
        "- Open Files in the sidebar of google colab.\n",
        "- Check the content/data/lighting_logs/version_X.\n",
        "- Note the latest one which is for the ResNet18 with augmented model. We will need this later for transfer learning.\n",
        "- Not to view the inside of the version folder, sometimes it takes time to load the files, so leave the downarrow on and wait."
      ],
      "metadata": {
        "id": "NkvloyxbnJQq"
      }
    },
    {
      "cell_type": "markdown",
      "source": [
        "#Transfer Learning with ResNet18 on CIFAR10 dataset."
      ],
      "metadata": {
        "id": "cRK7l26yOEIo"
      }
    },
    {
      "cell_type": "code",
      "source": [
        "import torch\n",
        "import torch.nn as nn\n",
        "import torch.optim as optim\n",
        "from torch.utils.data import DataLoader, random_split\n",
        "from torchvision import transforms\n",
        "from torchvision.datasets import CIFAR10\n",
        "from torchvision import models\n",
        "import lightning as L\n",
        "from lightning.pytorch.callbacks import EarlyStopping, ModelCheckpoint\n",
        "import matplotlib.pyplot as plt"
      ],
      "metadata": {
        "id": "OaLuizyzBgn1"
      },
      "execution_count": 11,
      "outputs": []
    },
    {
      "cell_type": "markdown",
      "source": [
        "##CIFAR10 Transfer Learning Model"
      ],
      "metadata": {
        "id": "alwq6vaBBl4f"
      }
    },
    {
      "cell_type": "code",
      "source": [
        "class CIFAR10TransferModel(L.LightningModule):\n",
        "    def __init__(self, lr=1e-3, batch_size=64):\n",
        "        super().__init__()\n",
        "        self.save_hyperparameters()\n",
        "\n",
        "        self.train_losses = []\n",
        "        self.val_losses = []\n",
        "        self.train_loss_epoch = []\n",
        "        self.val_loss_epoch = []\n",
        "\n",
        "        self.model = models.resnet18(weights=None)\n",
        "        self.model.conv1 = nn.Conv2d(1, 64, kernel_size=7, stride=2, padding=3, bias=False)\n",
        "        self.model.fc = nn.Linear(self.model.fc.in_features, 10)\n",
        "        self.loss_fn = nn.CrossEntropyLoss()\n",
        "\n",
        "    def forward(self, x):\n",
        "        return self.model(x)\n",
        "\n",
        "    def training_step(self, batch, batch_idx):\n",
        "        x, y = batch\n",
        "        preds = self(x)\n",
        "        loss = self.loss_fn(preds, y)\n",
        "        self.train_losses.append(loss.item())\n",
        "        self.log(\"train_loss\", loss)\n",
        "        return loss\n",
        "\n",
        "    def validation_step(self, batch, batch_idx):\n",
        "        x, y = batch\n",
        "        preds = self(x)\n",
        "        loss = self.loss_fn(preds, y)\n",
        "        self.val_losses.append(loss.item())\n",
        "        self.log(\"val_loss\", loss)\n",
        "        return loss\n",
        "\n",
        "    def test_step(self, batch, batch_idx):\n",
        "        x, y = batch\n",
        "        preds = self(x)\n",
        "        loss = self.loss_fn(preds, y)\n",
        "        acc = (preds.argmax(dim=1) == y).float().mean()\n",
        "        self.log(\"test_loss\", loss)\n",
        "        self.log(\"test_accuracy\", acc, prog_bar=True)\n",
        "        return {\"test_loss\": loss, \"test_accuracy\": acc}\n",
        "\n",
        "    def on_train_epoch_end(self):\n",
        "        avg_train = sum(self.train_losses) / len(self.train_losses)\n",
        "        avg_val = sum(self.val_losses) / len(self.val_losses)\n",
        "        self.train_loss_epoch.append(avg_train)\n",
        "        self.val_loss_epoch.append(avg_val)\n",
        "        print(f\"\\nEpoch {self.current_epoch} - Train Loss: {avg_train:.4f}, Val Loss: {avg_val:.4f}\")\n",
        "        self.train_losses.clear()\n",
        "        self.val_losses.clear()\n",
        "\n",
        "    def configure_optimizers(self):\n",
        "        return optim.Adam(self.parameters(), lr=self.hparams.lr)\n",
        "\n",
        "    def prepare_data(self):\n",
        "        CIFAR10(root=\"data\", train=True, download=True)\n",
        "        CIFAR10(root=\"data\", train=False, download=True)\n",
        "\n",
        "    def setup(self, stage=None):\n",
        "        transform = transforms.Compose([\n",
        "            transforms.Grayscale(),\n",
        "            transforms.Resize((224, 224)),\n",
        "            transforms.ToTensor(),\n",
        "        ])\n",
        "        dataset = CIFAR10(\"data\", train=True, transform=transform)\n",
        "        test_set = CIFAR10(\"data\", train=False, transform=transform)\n",
        "        self.train_dataset, self.val_dataset = random_split(dataset, [45000, 5000])\n",
        "        self.test_dataset = test_set\n",
        "\n",
        "    def train_dataloader(self):\n",
        "        return DataLoader(self.train_dataset, batch_size=self.hparams.batch_size, shuffle=True, num_workers=2)\n",
        "\n",
        "    def val_dataloader(self):\n",
        "        return DataLoader(self.val_dataset, batch_size=self.hparams.batch_size, num_workers=2)\n",
        "\n",
        "    def test_dataloader(self):\n",
        "        return DataLoader(self.test_dataset, batch_size=self.hparams.batch_size, num_workers=2)\n",
        "\n",
        "\n",
        "def plot_loss(model, title):\n",
        "    epochs = range(len(model.train_loss_epoch))\n",
        "    plt.plot(epochs, model.train_loss_epoch, label=\"Train Loss\")\n",
        "    plt.plot(epochs, model.val_loss_epoch, label=\"Val Loss\")\n",
        "    plt.title(title)\n",
        "    plt.xlabel(\"Epoch\")\n",
        "    plt.ylabel(\"Loss\")\n",
        "    plt.legend()\n",
        "    plt.grid(True)\n",
        "    plt.show()"
      ],
      "metadata": {
        "id": "qj9kXaghB4hX"
      },
      "execution_count": 12,
      "outputs": []
    },
    {
      "cell_type": "markdown",
      "source": [
        "## Train from Scratch"
      ],
      "metadata": {
        "id": "gKXkhZO2CIkv"
      }
    },
    {
      "cell_type": "markdown",
      "source": [
        "**Note this model takes time to converge in the first run.It took me 12-15 min.**"
      ],
      "metadata": {
        "id": "Ik3XkOJsEOUg"
      }
    },
    {
      "cell_type": "code",
      "source": [
        "# Train from Scratch\n",
        "model_scratch = CIFAR10TransferModel()\n",
        "\n",
        "trainer = L.Trainer(\n",
        "    max_epochs=5,\n",
        "    accelerator=\"auto\",\n",
        "    callbacks=[\n",
        "        EarlyStopping(monitor=\"val_loss\", patience=3),\n",
        "        ModelCheckpoint(monitor=\"val_loss\", mode=\"min\")\n",
        "    ],\n",
        "    log_every_n_steps=10\n",
        ")\n",
        "\n",
        "trainer.fit(model_scratch)\n",
        "test_results = trainer.test(model_scratch)\n",
        "print(\"Test Accuracy (From Scratch):\", test_results[0][\"test_accuracy\"])\n",
        "plot_loss(model_scratch, \"Training vs Validation Loss (CIFAR10 - Trained from Scratch)\")"
      ],
      "metadata": {
        "id": "eW261VgNCSMs",
        "colab": {
          "base_uri": "https://localhost:8080/",
          "height": 1000,
          "referenced_widgets": [
            "69cd71a04fee4f5ba3de754515a4390e",
            "c74e3cfd3d704b698dedd0ab36de9f2b",
            "dccf2f1e233e4863b96e22b2eebd9f31",
            "d88c9f495e5c4369ac6414b8b599ab19",
            "f2c99870ef6140a0b4420d57aca0b6b8",
            "3e88e4f647ae4a2ab6d2ab9959e0f0c3",
            "5689762ee71f4d9d9b047fcec116971d",
            "b53d65e101d8404fb0ede535c1305549",
            "c1e08aa015f34c1d9b196f507291e8c7",
            "9569838cd82a4e10bb6cef60ff4124cc",
            "df93a8e3fd6746c78b20bd7d6d08b3b7",
            "4a481d24c32241dda67d895af0f7eefc",
            "9a3412359dd540178f7e1ed1666de347",
            "5960b5e20b734762aa2f26895fd7f12a",
            "a31e21fb97e545d092725d30c6914e81",
            "98e5bd09a02e47fd9bc314fe02161cbb",
            "dd5b5f33c4594566bf4fea3ee330737b",
            "224594ce5c0d4c2191e01f085d9af8eb",
            "5a571c0a77d341f3ac62c80f9e0969d0",
            "edd7f73d16e1474185f0d5d7cf399351",
            "1a0b79361c9d4fbdad5ee42729350c42",
            "050bc6db8c204594a4c554269e51128b",
            "4ac20457d22c41149d2e13c1fcff59f0",
            "f8f506b07a6c40788319e6ab646967c1",
            "edd2aad0cfaa4306a3cc794ecd97ae66",
            "98251eba45a74d098feac6f528d83a06",
            "49b67c6f228b4831ab56d026d7e8ad25",
            "cca8cb8092594ee8a403f6831ae146fc",
            "a387e36564c54100a227cdbfe2899054",
            "ae1ae09692a24dde92cc72a2a120b65e",
            "8bc56e0cc67e433eb263ce324e2cf4b4",
            "73dd202f3f0f4efbac49000088fb2122",
            "c9853388327f4c3d925358a049cb1bdf",
            "e02f48518b384268b2450acb88dd2be0",
            "1beac396867141929f6da7fbaf51f42e",
            "74f396194701433f9a5660ef2f2978f3",
            "8f7b121971ed4a77a8a2066f82c3939a",
            "b03fdb8f43da4f48aa874b91ef1324bb",
            "031e1f10b88a4f14a0ac5cc7d8c65c7c",
            "751687a5ab864c6d9b56e157a95d5664",
            "d81e0eb80fae4816b2644791b7810173",
            "4d81f6a17e654836bde23560a9bfe110",
            "2d03f0de51de4eaabe92cbb008d1171e",
            "9ed22f6d01584a7682eb45fd9ba5f450",
            "930843064d7b4281a3d84de2c10b2147",
            "6b8a8caf6ff34dbab629229590a722fa",
            "361cb38f859f4bb1b1dad83152e0629a",
            "813880787d4d47279d00a88ade43fdb3",
            "61933f34ea754c0c9f386f0cab420a0d",
            "c407a6f655c44d6cac89e62e4b0d81a7",
            "6e8aa08f66e54dfda1585aa84d3a2ca2",
            "42a57382fb4a4d169b960cfe5d298406",
            "6591bb0a2d274454bbd1d3a077f50894",
            "b002cc322db94fd3aba51c88cb49b710",
            "46e65d640d394b4f9657f595527af879",
            "e9ed91e2911c49f4ac71e91e2b50c890",
            "26199d64c50d431aa8cc77496c4cf7e8",
            "d763cdedc8cd4566a23c59440e44db34",
            "734a9c642edc436f874caaf3a8cb9be5",
            "e4ab152360744cfba4d3091c96bac644",
            "ae8ae0f909fe4db5b084b53bc7ab8ec3",
            "8abf1e35c5314eb180e28e17358f219c",
            "9eecd75dbe45475c960fefe623e58148",
            "21ba2299ddf74a81929c458a7df3ef42",
            "76656cc233304a81ac9a993871edf996",
            "0c26a1a579044afcab11e190edddbf3c",
            "a1cf056614ab4ec687e20c754c2e6683",
            "b8bcae76918f4ace85f5ceb7d9b08af4",
            "7b9c973a2ccd42f1a40468fcdbd35be7",
            "21beedcb58ff42cfa6e213650381dc39",
            "560b50ad23e5441598ecd01150e44ea4",
            "347dab637bce469b81487b10d6aa0dff",
            "d427489f072e40e8873a3fd827edf887",
            "5751242379f44c74a914e93de78eb6f7",
            "d282313c86644a70bbbe3906dbf88b0b",
            "65711196479f449280634645d30944c5",
            "eef9c40dc1f441a1b4c9abd22bae7b1a",
            "24e621542f4b4428a9272de2ae328d54",
            "c45c308759d54eabaf58b595c15b2394",
            "00f22457091b41de80b429ff9c4b9c57",
            "9328b62e00d44a8395a9f464ff82584c",
            "92682f8320dd4593a2e0260a5758b993",
            "77cf2d0809724941a89d7d1e8672af70",
            "db2f1a1a31184f19b4e475ce1e4665b3",
            "2d63b0d185f246f79d0e1280ae4340bd",
            "2a74835b1d0b4ffb8e0ce583423846b2",
            "8d8b59f2be8f448c966d94aab322cb61",
            "43e8b8af63974fa68ff1f84321f6f223"
          ]
        },
        "outputId": "0f88947c-9631-416a-da1a-a490ee1c214d"
      },
      "execution_count": 13,
      "outputs": [
        {
          "output_type": "stream",
          "name": "stderr",
          "text": [
            "INFO: GPU available: True (cuda), used: True\n",
            "INFO:lightning.pytorch.utilities.rank_zero:GPU available: True (cuda), used: True\n",
            "INFO: TPU available: False, using: 0 TPU cores\n",
            "INFO:lightning.pytorch.utilities.rank_zero:TPU available: False, using: 0 TPU cores\n",
            "INFO: HPU available: False, using: 0 HPUs\n",
            "INFO:lightning.pytorch.utilities.rank_zero:HPU available: False, using: 0 HPUs\n",
            "100%|██████████| 170M/170M [00:04<00:00, 42.1MB/s]\n",
            "INFO: LOCAL_RANK: 0 - CUDA_VISIBLE_DEVICES: [0]\n",
            "INFO:lightning.pytorch.accelerators.cuda:LOCAL_RANK: 0 - CUDA_VISIBLE_DEVICES: [0]\n",
            "INFO: \n",
            "  | Name    | Type             | Params | Mode \n",
            "-----------------------------------------------------\n",
            "0 | model   | ResNet           | 11.2 M | train\n",
            "1 | loss_fn | CrossEntropyLoss | 0      | train\n",
            "-----------------------------------------------------\n",
            "11.2 M    Trainable params\n",
            "0         Non-trainable params\n",
            "11.2 M    Total params\n",
            "44.701    Total estimated model params size (MB)\n",
            "69        Modules in train mode\n",
            "0         Modules in eval mode\n",
            "INFO:lightning.pytorch.callbacks.model_summary:\n",
            "  | Name    | Type             | Params | Mode \n",
            "-----------------------------------------------------\n",
            "0 | model   | ResNet           | 11.2 M | train\n",
            "1 | loss_fn | CrossEntropyLoss | 0      | train\n",
            "-----------------------------------------------------\n",
            "11.2 M    Trainable params\n",
            "0         Non-trainable params\n",
            "11.2 M    Total params\n",
            "44.701    Total estimated model params size (MB)\n",
            "69        Modules in train mode\n",
            "0         Modules in eval mode\n"
          ]
        },
        {
          "output_type": "display_data",
          "data": {
            "text/plain": [
              "Sanity Checking: |          | 0/? [00:00<?, ?it/s]"
            ],
            "application/vnd.jupyter.widget-view+json": {
              "version_major": 2,
              "version_minor": 0,
              "model_id": "69cd71a04fee4f5ba3de754515a4390e"
            }
          },
          "metadata": {}
        },
        {
          "output_type": "display_data",
          "data": {
            "text/plain": [
              "Training: |          | 0/? [00:00<?, ?it/s]"
            ],
            "application/vnd.jupyter.widget-view+json": {
              "version_major": 2,
              "version_minor": 0,
              "model_id": "4a481d24c32241dda67d895af0f7eefc"
            }
          },
          "metadata": {}
        },
        {
          "output_type": "display_data",
          "data": {
            "text/plain": [
              "Validation: |          | 0/? [00:00<?, ?it/s]"
            ],
            "application/vnd.jupyter.widget-view+json": {
              "version_major": 2,
              "version_minor": 0,
              "model_id": "4ac20457d22c41149d2e13c1fcff59f0"
            }
          },
          "metadata": {}
        },
        {
          "output_type": "stream",
          "name": "stdout",
          "text": [
            "\n",
            "Epoch 0 - Train Loss: 1.3384, Val Loss: 1.1386\n"
          ]
        },
        {
          "output_type": "display_data",
          "data": {
            "text/plain": [
              "Validation: |          | 0/? [00:00<?, ?it/s]"
            ],
            "application/vnd.jupyter.widget-view+json": {
              "version_major": 2,
              "version_minor": 0,
              "model_id": "e02f48518b384268b2450acb88dd2be0"
            }
          },
          "metadata": {}
        },
        {
          "output_type": "stream",
          "name": "stdout",
          "text": [
            "\n",
            "Epoch 1 - Train Loss: 0.8446, Val Loss: 0.9495\n"
          ]
        },
        {
          "output_type": "display_data",
          "data": {
            "text/plain": [
              "Validation: |          | 0/? [00:00<?, ?it/s]"
            ],
            "application/vnd.jupyter.widget-view+json": {
              "version_major": 2,
              "version_minor": 0,
              "model_id": "930843064d7b4281a3d84de2c10b2147"
            }
          },
          "metadata": {}
        },
        {
          "output_type": "stream",
          "name": "stdout",
          "text": [
            "\n",
            "Epoch 2 - Train Loss: 0.6428, Val Loss: 0.9880\n"
          ]
        },
        {
          "output_type": "display_data",
          "data": {
            "text/plain": [
              "Validation: |          | 0/? [00:00<?, ?it/s]"
            ],
            "application/vnd.jupyter.widget-view+json": {
              "version_major": 2,
              "version_minor": 0,
              "model_id": "e9ed91e2911c49f4ac71e91e2b50c890"
            }
          },
          "metadata": {}
        },
        {
          "output_type": "stream",
          "name": "stdout",
          "text": [
            "\n",
            "Epoch 3 - Train Loss: 0.5198, Val Loss: 0.7323\n"
          ]
        },
        {
          "output_type": "display_data",
          "data": {
            "text/plain": [
              "Validation: |          | 0/? [00:00<?, ?it/s]"
            ],
            "application/vnd.jupyter.widget-view+json": {
              "version_major": 2,
              "version_minor": 0,
              "model_id": "a1cf056614ab4ec687e20c754c2e6683"
            }
          },
          "metadata": {}
        },
        {
          "output_type": "stream",
          "name": "stderr",
          "text": [
            "INFO: `Trainer.fit` stopped: `max_epochs=5` reached.\n",
            "INFO:lightning.pytorch.utilities.rank_zero:`Trainer.fit` stopped: `max_epochs=5` reached.\n"
          ]
        },
        {
          "output_type": "stream",
          "name": "stdout",
          "text": [
            "\n",
            "Epoch 4 - Train Loss: 0.4163, Val Loss: 0.7392\n"
          ]
        },
        {
          "output_type": "stream",
          "name": "stderr",
          "text": [
            "INFO: LOCAL_RANK: 0 - CUDA_VISIBLE_DEVICES: [0]\n",
            "INFO:lightning.pytorch.accelerators.cuda:LOCAL_RANK: 0 - CUDA_VISIBLE_DEVICES: [0]\n"
          ]
        },
        {
          "output_type": "display_data",
          "data": {
            "text/plain": [
              "Testing: |          | 0/? [00:00<?, ?it/s]"
            ],
            "application/vnd.jupyter.widget-view+json": {
              "version_major": 2,
              "version_minor": 0,
              "model_id": "24e621542f4b4428a9272de2ae328d54"
            }
          },
          "metadata": {}
        },
        {
          "output_type": "display_data",
          "data": {
            "text/plain": [
              "┏━━━━━━━━━━━━━━━━━━━━━━━━━━━┳━━━━━━━━━━━━━━━━━━━━━━━━━━━┓\n",
              "┃\u001b[1m \u001b[0m\u001b[1m       Test metric       \u001b[0m\u001b[1m \u001b[0m┃\u001b[1m \u001b[0m\u001b[1m      DataLoader 0       \u001b[0m\u001b[1m \u001b[0m┃\n",
              "┡━━━━━━━━━━━━━━━━━━━━━━━━━━━╇━━━━━━━━━━━━━━━━━━━━━━━━━━━┩\n",
              "│\u001b[36m \u001b[0m\u001b[36m      test_accuracy      \u001b[0m\u001b[36m \u001b[0m│\u001b[35m \u001b[0m\u001b[35m   0.7705000042915344    \u001b[0m\u001b[35m \u001b[0m│\n",
              "│\u001b[36m \u001b[0m\u001b[36m        test_loss        \u001b[0m\u001b[36m \u001b[0m│\u001b[35m \u001b[0m\u001b[35m   0.7157152891159058    \u001b[0m\u001b[35m \u001b[0m│\n",
              "└───────────────────────────┴───────────────────────────┘\n"
            ],
            "text/html": [
              "<pre style=\"white-space:pre;overflow-x:auto;line-height:normal;font-family:Menlo,'DejaVu Sans Mono',consolas,'Courier New',monospace\">┏━━━━━━━━━━━━━━━━━━━━━━━━━━━┳━━━━━━━━━━━━━━━━━━━━━━━━━━━┓\n",
              "┃<span style=\"font-weight: bold\">        Test metric        </span>┃<span style=\"font-weight: bold\">       DataLoader 0        </span>┃\n",
              "┡━━━━━━━━━━━━━━━━━━━━━━━━━━━╇━━━━━━━━━━━━━━━━━━━━━━━━━━━┩\n",
              "│<span style=\"color: #008080; text-decoration-color: #008080\">       test_accuracy       </span>│<span style=\"color: #800080; text-decoration-color: #800080\">    0.7705000042915344     </span>│\n",
              "│<span style=\"color: #008080; text-decoration-color: #008080\">         test_loss         </span>│<span style=\"color: #800080; text-decoration-color: #800080\">    0.7157152891159058     </span>│\n",
              "└───────────────────────────┴───────────────────────────┘\n",
              "</pre>\n"
            ]
          },
          "metadata": {}
        },
        {
          "output_type": "stream",
          "name": "stdout",
          "text": [
            "Test Accuracy (From Scratch): 0.7705000042915344\n"
          ]
        },
        {
          "output_type": "display_data",
          "data": {
            "text/plain": [
              "<Figure size 640x480 with 1 Axes>"
            ],
            "image/png": "[encoded data removed]"
          },
          "metadata": {}
        }
      ]
    },
    {
      "cell_type": "markdown",
      "source": [
        "##Fine-Tune with Imagenette-Trained Weights"
      ],
      "metadata": {
        "id": "5N8WCmgfEdZB"
      }
    },
    {
      "cell_type": "markdown",
      "source": [
        "**Note: For the pretrained path we should keep track of the ResNet18 with augemented model in the lighting logs and use its version folder and ckpt file inside the checkpoints folder inside it as shown below.The version folder will keep on increasing each time you run a model. If you are running this make sure you remember the version folder from previous ResNet 18 augmented model.**"
      ],
      "metadata": {
        "id": "dKD34Dh4FAYQ"
      }
    },
    {
      "cell_type": "code",
      "source": [
        "# Fine-tune from Imagenette checkpoint\n",
        "checkpoint_path = \"/content/lightning_logs/version_3/checkpoints/epoch=2-step=201.ckpt\"\n",
        "model_finetune = CIFAR10TransferModel.load_from_checkpoint(checkpoint_path)\n",
        "\n",
        "trainer_finetune = L.Trainer(\n",
        "    max_epochs=5,\n",
        "    accelerator=\"auto\",\n",
        "    callbacks=[\n",
        "        EarlyStopping(monitor=\"val_loss\", patience=3),\n",
        "        ModelCheckpoint(monitor=\"val_loss\", mode=\"min\")\n",
        "    ],\n",
        "    log_every_n_steps=10\n",
        ")\n",
        "\n",
        "trainer_finetune.fit(model_finetune)\n",
        "test_results_ft = trainer_finetune.test(model_finetune)\n",
        "print(\"Test Accuracy (Fine-Tuned):\", test_results_ft[0][\"test_accuracy\"])\n",
        "plot_loss(model_finetune, \"Training vs Validation Loss (CIFAR10 - Fine-Tuned from Imagenette)\")"
      ],
      "metadata": {
        "id": "YKaYCEo6Ex4q",
        "colab": {
          "base_uri": "https://localhost:8080/",
          "height": 1000,
          "referenced_widgets": [
            "bc4fabbb5cdf4b189f77dd771ccb16a6",
            "d2509284462c4726a40fe477be208ca9",
            "379ed535687c47b08d69ef8a3610d816",
            "b32a6434433c4a1ea4770fb738ca3d4a",
            "dcb0385176404aefb635bcb81e4d0043",
            "6c0a8e6349594a5ba3d74830e7213171",
            "d322de80b69849768ff369486f1811b4",
            "f6704a8023234847952ffada84527162",
            "723c7cbbed1940db8968c5e2437d0400",
            "e4c6a954bd434d47a7f7e42f6f4dc0f2",
            "ba3071f7a71e462ba530e8a404db2479",
            "cfb20e104f6d475db14fb52106f37bb4",
            "fd4335193d23420eb1dd7fcf85dd25b7",
            "e5d2e7b25e78497abec1717581d70344",
            "0e8667a90df34aba9c441a8a426e4a5c",
            "019625dd1ebb4016a86cd7fdb891d8f9",
            "310122ac05114c5395e3932ffb7d4539",
            "226dc52d52f2440d93cfc93d5bafc008",
            "b7890accc47e4e188a846d3e4373e591",
            "8c0eda785034483083cfb2564eac5aa5",
            "d245120996404a00af502cc73b64085d",
            "f596ae91e4ad4e6896d2dc3a527f8e4e",
            "1a8cdaa63b2d4a61bc69d5e86229833a",
            "7167150b5c1f4b5f8fbe34120fe2bda0",
            "3d2bb585ebae41ffa9ddb12c3a56d859",
            "9676723a2d4f4ab2ba0f0cd5d1b01d95",
            "a1f0bfca5b384df68f9ddf6d2cf82b0b",
            "29c827157a4c4c2aa600eb5fc031990a",
            "d2d9c894945540b4949ad539caedaaac",
            "f8b10ae978a44a4987d055873513c43d",
            "16e5742e942245fd8d48b88875cafb77",
            "756bf037f53a4779962da715817828a0",
            "bfa84c6c2a304d228dd73250405c237f",
            "01065694c4c344a29c4bfe8ffdade8e7",
            "dace1c075b2848c58d0a811e6e121b1d",
            "c9a9a920caae4a1abaa5b5ca3202f1dc",
            "6d2ec82c05f34eeabd650adb3f6915dc",
            "317734b82c4d47108f19f142da24f24b",
            "adc7924e4e5142b3863cfee8bd70b731",
            "fc47991f8a274c559d1c522721285a66",
            "2f6aee783bfc433b8eeb3ce2495fc7be",
            "4623ef6372e341d28ff28e6ff7a62e69",
            "20d57ab54c9e4f799ce790795ca618fc",
            "e6518c068d2c476d82243155993def65",
            "9237552d953840f89080f9b6ff40fac4",
            "87da05aebccc49ee860f47ed39b5cd38",
            "35a4393bce164a999dfd6407f5207b4a",
            "433c582259414b6490532e499a7d5ac7",
            "208750362b264b7b938484c729ee9840",
            "a1c3635acc7c4985bc3e27b4b0b86ab2",
            "5ef966a59c3d488bb7d9ecfc376fc001",
            "2c4d0055ea0d476dbd1d5b7fa646af43",
            "4ce5fcb3117d4f67a4b90d12e833f890",
            "235a79ffed30437b9ac14b934fcaea63",
            "1efd72f1e40648e98d2f0ee75d2faba0",
            "afc51e02462444818fab4ff9836ed33e",
            "bcec7fec205541178acac5a9b7b18af1",
            "87b027d66fbe46cd9dacfcab86541106",
            "186ce1b328084f3484b04bf4e91dcfa0",
            "c077383a44c849438fa11eb41319a81c",
            "7edc0b13ee8a44a4832004bdd369ecf9",
            "28bb25950c224cc99b4647de6263518f",
            "b4e0694e02d44865ada876c60c5c90d0",
            "b2227355a5b74c4f96a6dc9545d56040",
            "83259ae7351641f69950ba888818c6e7",
            "85028b685a4e4f11a65ebdbb0bfe8fe6",
            "ed4badd5267b4db4b118bad64a2dad04",
            "f6c67e3547e444ee80e83f4f1c3b4fd8",
            "d01a517829ab4e9c880d60da36c9e912",
            "1b8fad68e8be4f0a8183edcc3773e85e",
            "d626aa3905d442aab8b2ed53e03c0dcc",
            "f70023985d0c42fa8c0de9d8599d783b",
            "6754ffb1a7a446dcabcc106ff29a3483",
            "78371d51938f46e1a03cec3c9dfb3b3c",
            "737ec8d354ae455fa0dcd172128c72a7",
            "41897b7326114515aebe6eded902086b",
            "be1d8578174048ddb02c8279a797c7c4",
            "e33060ee7c82422f9bb2fd40716900de",
            "c36bb8be275a4733b8b804645c79293e",
            "2e7351f4676e423abc9db987542770b6",
            "2154f6155e0f488aac83107b1047472e",
            "853fbcdd5a81415faee4d5d4760cabeb",
            "031bcd3e27f74532bd303e36576af16f",
            "44b870e1774e42f896f594a51f217766",
            "7d862dd543bf41afb957f63a385187b3",
            "42be15c5d39e4047b4c0580b0fccb101",
            "2e86807de1da43deafd667c7d8abbc2a",
            "d2c6a0c192f74efb802f3ca995ab0a1e"
          ]
        },
        "outputId": "44333590-7f5d-4c60-d5af-e2a17bbdb7e5"
      },
      "execution_count": 14,
      "outputs": [
        {
          "output_type": "stream",
          "name": "stderr",
          "text": [
            "INFO: GPU available: True (cuda), used: True\n",
            "INFO:lightning.pytorch.utilities.rank_zero:GPU available: True (cuda), used: True\n",
            "INFO: TPU available: False, using: 0 TPU cores\n",
            "INFO:lightning.pytorch.utilities.rank_zero:TPU available: False, using: 0 TPU cores\n",
            "INFO: HPU available: False, using: 0 HPUs\n",
            "INFO:lightning.pytorch.utilities.rank_zero:HPU available: False, using: 0 HPUs\n",
            "INFO: LOCAL_RANK: 0 - CUDA_VISIBLE_DEVICES: [0]\n",
            "INFO:lightning.pytorch.accelerators.cuda:LOCAL_RANK: 0 - CUDA_VISIBLE_DEVICES: [0]\n",
            "INFO: \n",
            "  | Name    | Type             | Params | Mode \n",
            "-----------------------------------------------------\n",
            "0 | model   | ResNet           | 11.2 M | train\n",
            "1 | loss_fn | CrossEntropyLoss | 0      | train\n",
            "-----------------------------------------------------\n",
            "11.2 M    Trainable params\n",
            "0         Non-trainable params\n",
            "11.2 M    Total params\n",
            "44.701    Total estimated model params size (MB)\n",
            "69        Modules in train mode\n",
            "0         Modules in eval mode\n",
            "INFO:lightning.pytorch.callbacks.model_summary:\n",
            "  | Name    | Type             | Params | Mode \n",
            "-----------------------------------------------------\n",
            "0 | model   | ResNet           | 11.2 M | train\n",
            "1 | loss_fn | CrossEntropyLoss | 0      | train\n",
            "-----------------------------------------------------\n",
            "11.2 M    Trainable params\n",
            "0         Non-trainable params\n",
            "11.2 M    Total params\n",
            "44.701    Total estimated model params size (MB)\n",
            "69        Modules in train mode\n",
            "0         Modules in eval mode\n"
          ]
        },
        {
          "output_type": "display_data",
          "data": {
            "text/plain": [
              "Sanity Checking: |          | 0/? [00:00<?, ?it/s]"
            ],
            "application/vnd.jupyter.widget-view+json": {
              "version_major": 2,
              "version_minor": 0,
              "model_id": "bc4fabbb5cdf4b189f77dd771ccb16a6"
            }
          },
          "metadata": {}
        },
        {
          "output_type": "display_data",
          "data": {
            "text/plain": [
              "Training: |          | 0/? [00:00<?, ?it/s]"
            ],
            "application/vnd.jupyter.widget-view+json": {
              "version_major": 2,
              "version_minor": 0,
              "model_id": "cfb20e104f6d475db14fb52106f37bb4"
            }
          },
          "metadata": {}
        },
        {
          "output_type": "display_data",
          "data": {
            "text/plain": [
              "Validation: |          | 0/? [00:00<?, ?it/s]"
            ],
            "application/vnd.jupyter.widget-view+json": {
              "version_major": 2,
              "version_minor": 0,
              "model_id": "1a8cdaa63b2d4a61bc69d5e86229833a"
            }
          },
          "metadata": {}
        },
        {
          "output_type": "stream",
          "name": "stdout",
          "text": [
            "\n",
            "Epoch 0 - Train Loss: 1.2330, Val Loss: 1.7107\n"
          ]
        },
        {
          "output_type": "display_data",
          "data": {
            "text/plain": [
              "Validation: |          | 0/? [00:00<?, ?it/s]"
            ],
            "application/vnd.jupyter.widget-view+json": {
              "version_major": 2,
              "version_minor": 0,
              "model_id": "01065694c4c344a29c4bfe8ffdade8e7"
            }
          },
          "metadata": {}
        },
        {
          "output_type": "stream",
          "name": "stdout",
          "text": [
            "\n",
            "Epoch 1 - Train Loss: 0.7786, Val Loss: 0.9211\n"
          ]
        },
        {
          "output_type": "display_data",
          "data": {
            "text/plain": [
              "Validation: |          | 0/? [00:00<?, ?it/s]"
            ],
            "application/vnd.jupyter.widget-view+json": {
              "version_major": 2,
              "version_minor": 0,
              "model_id": "9237552d953840f89080f9b6ff40fac4"
            }
          },
          "metadata": {}
        },
        {
          "output_type": "stream",
          "name": "stdout",
          "text": [
            "\n",
            "Epoch 2 - Train Loss: 0.6070, Val Loss: 0.6601\n"
          ]
        },
        {
          "output_type": "display_data",
          "data": {
            "text/plain": [
              "Validation: |          | 0/? [00:00<?, ?it/s]"
            ],
            "application/vnd.jupyter.widget-view+json": {
              "version_major": 2,
              "version_minor": 0,
              "model_id": "afc51e02462444818fab4ff9836ed33e"
            }
          },
          "metadata": {}
        },
        {
          "output_type": "stream",
          "name": "stdout",
          "text": [
            "\n",
            "Epoch 3 - Train Loss: 0.4850, Val Loss: 0.6839\n"
          ]
        },
        {
          "output_type": "display_data",
          "data": {
            "text/plain": [
              "Validation: |          | 0/? [00:00<?, ?it/s]"
            ],
            "application/vnd.jupyter.widget-view+json": {
              "version_major": 2,
              "version_minor": 0,
              "model_id": "ed4badd5267b4db4b118bad64a2dad04"
            }
          },
          "metadata": {}
        },
        {
          "output_type": "stream",
          "name": "stdout",
          "text": [
            "\n",
            "Epoch 4 - Train Loss: 0.3777, Val Loss: 0.5747\n"
          ]
        },
        {
          "output_type": "stream",
          "name": "stderr",
          "text": [
            "INFO: `Trainer.fit` stopped: `max_epochs=5` reached.\n",
            "INFO:lightning.pytorch.utilities.rank_zero:`Trainer.fit` stopped: `max_epochs=5` reached.\n",
            "INFO: LOCAL_RANK: 0 - CUDA_VISIBLE_DEVICES: [0]\n",
            "INFO:lightning.pytorch.accelerators.cuda:LOCAL_RANK: 0 - CUDA_VISIBLE_DEVICES: [0]\n"
          ]
        },
        {
          "output_type": "display_data",
          "data": {
            "text/plain": [
              "Testing: |          | 0/? [00:00<?, ?it/s]"
            ],
            "application/vnd.jupyter.widget-view+json": {
              "version_major": 2,
              "version_minor": 0,
              "model_id": "e33060ee7c82422f9bb2fd40716900de"
            }
          },
          "metadata": {}
        },
        {
          "output_type": "display_data",
          "data": {
            "text/plain": [
              "┏━━━━━━━━━━━━━━━━━━━━━━━━━━━┳━━━━━━━━━━━━━━━━━━━━━━━━━━━┓\n",
              "┃\u001b[1m \u001b[0m\u001b[1m       Test metric       \u001b[0m\u001b[1m \u001b[0m┃\u001b[1m \u001b[0m\u001b[1m      DataLoader 0       \u001b[0m\u001b[1m \u001b[0m┃\n",
              "┡━━━━━━━━━━━━━━━━━━━━━━━━━━━╇━━━━━━━━━━━━━━━━━━━━━━━━━━━┩\n",
              "│\u001b[36m \u001b[0m\u001b[36m      test_accuracy      \u001b[0m\u001b[36m \u001b[0m│\u001b[35m \u001b[0m\u001b[35m   0.8004000186920166    \u001b[0m\u001b[35m \u001b[0m│\n",
              "│\u001b[36m \u001b[0m\u001b[36m        test_loss        \u001b[0m\u001b[36m \u001b[0m│\u001b[35m \u001b[0m\u001b[35m   0.6070336103439331    \u001b[0m\u001b[35m \u001b[0m│\n",
              "└───────────────────────────┴───────────────────────────┘\n"
            ],
            "text/html": [
              "<pre style=\"white-space:pre;overflow-x:auto;line-height:normal;font-family:Menlo,'DejaVu Sans Mono',consolas,'Courier New',monospace\">┏━━━━━━━━━━━━━━━━━━━━━━━━━━━┳━━━━━━━━━━━━━━━━━━━━━━━━━━━┓\n",
              "┃<span style=\"font-weight: bold\">        Test metric        </span>┃<span style=\"font-weight: bold\">       DataLoader 0        </span>┃\n",
              "┡━━━━━━━━━━━━━━━━━━━━━━━━━━━╇━━━━━━━━━━━━━━━━━━━━━━━━━━━┩\n",
              "│<span style=\"color: #008080; text-decoration-color: #008080\">       test_accuracy       </span>│<span style=\"color: #800080; text-decoration-color: #800080\">    0.8004000186920166     </span>│\n",
              "│<span style=\"color: #008080; text-decoration-color: #008080\">         test_loss         </span>│<span style=\"color: #800080; text-decoration-color: #800080\">    0.6070336103439331     </span>│\n",
              "└───────────────────────────┴───────────────────────────┘\n",
              "</pre>\n"
            ]
          },
          "metadata": {}
        },
        {
          "output_type": "stream",
          "name": "stdout",
          "text": [
            "Test Accuracy (Fine-Tuned): 0.8004000186920166\n"
          ]
        },
        {
          "output_type": "display_data",
          "data": {
            "text/plain": [
              "<Figure size 640x480 with 1 Axes>"
            ],
            "image/png": "[encoded data removed]"
          },
          "metadata": {}
        }
      ]
    }
  ],
  "metadata": {
    "kernelspec": {
      "display_name": "Python 3",
      "name": "python3"
    },
    "language_info": {
      "codemirror_mode": {
        "name": "ipython",
        "version": 3
      },
      "file_extension": ".py",
      "mimetype": "text/x-python",
      "name": "python",
      "nbconvert_exporter": "python",
      "pygments_lexer": "ipython3",
      "version": "3.11.8"
    },
    "colab": {
      "provenance": [],
      "gpuType": "T4"
    },
    "accelerator": "GPU",
    "widgets": {
      "application/vnd.jupyter.widget-state+json": {
        "state": {}
      }
    }
  },
  "nbformat": 4,
  "nbformat_minor": 0
}